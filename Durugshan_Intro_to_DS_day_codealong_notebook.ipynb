{
  "nbformat": 4,
  "nbformat_minor": 0,
  "metadata": {
    "colab": {
      "provenance": [],
      "include_colab_link": true
    },
    "kernelspec": {
      "display_name": "Python 3",
      "language": "python",
      "name": "python3"
    },
    "language_info": {
      "codemirror_mode": {
        "name": "ipython",
        "version": 3
      },
      "file_extension": ".py",
      "mimetype": "text/x-python",
      "name": "python",
      "nbconvert_exporter": "python",
      "pygments_lexer": "ipython3",
      "version": "3.8.8"
    }
  },
  "cells": [
    {
      "cell_type": "markdown",
      "metadata": {
        "id": "view-in-github",
        "colab_type": "text"
      },
      "source": [
        "<a href=\"https://colab.research.google.com/github/shahnazpm/bootcamp-config/blob/main/Durugshan_Intro_to_DS_day_codealong_notebook.ipynb\" target=\"_parent\"><img src=\"https://colab.research.google.com/assets/colab-badge.svg\" alt=\"Open In Colab\"/></a>"
      ]
    },
    {
      "cell_type": "markdown",
      "metadata": {
        "id": "fBKDBcT4nh1u"
      },
      "source": [
        "# BrainStation Data Science Intro Day"
      ]
    },
    {
      "cell_type": "markdown",
      "metadata": {
        "id": "ezGtw-g2aszl"
      },
      "source": [
        "## **Session 1: Basic Python & DataFrames**"
      ]
    },
    {
      "cell_type": "markdown",
      "metadata": {
        "id": "m06nep53nh1w"
      },
      "source": [
        "Here we will cover some of the fundamentals of python leading up to working with data. Python can print outputs:"
      ]
    },
    {
      "cell_type": "code",
      "metadata": {
        "colab": {
          "base_uri": "https://localhost:8080/"
        },
        "id": "EOlmO7kcgFFZ",
        "scrolled": true,
        "outputId": "f38345a4-8abc-4e1e-8e84-cb73777bbb8d"
      },
      "source": [
        "print('hello world!')"
      ],
      "execution_count": null,
      "outputs": [
        {
          "output_type": "stream",
          "text": [
            "hello world!\n"
          ],
          "name": "stdout"
        }
      ]
    },
    {
      "cell_type": "markdown",
      "metadata": {
        "id": "pAQRGGBynh1y"
      },
      "source": [
        "It can also do basic mathematical operations like a calculator:"
      ]
    },
    {
      "cell_type": "code",
      "metadata": {
        "colab": {
          "base_uri": "https://localhost:8080/"
        },
        "id": "T1P5P-57gGR-",
        "outputId": "15b5238a-44b6-4f60-bbff-c9e1aa311dec"
      },
      "source": [
        "2+2"
      ],
      "execution_count": null,
      "outputs": [
        {
          "output_type": "execute_result",
          "data": {
            "text/plain": [
              "4"
            ]
          },
          "metadata": {},
          "execution_count": 2
        }
      ]
    },
    {
      "cell_type": "code",
      "metadata": {
        "colab": {
          "base_uri": "https://localhost:8080/"
        },
        "id": "iVgmxm4jgGa9",
        "outputId": "0b20154e-d254-4ddd-be19-45039b18c150"
      },
      "source": [
        "print(2+2)\n",
        "print(2-2)\n",
        "print(2*2)\n",
        "print(2/2)"
      ],
      "execution_count": null,
      "outputs": [
        {
          "output_type": "stream",
          "text": [
            "4\n",
            "0\n",
            "4\n",
            "1.0\n"
          ],
          "name": "stdout"
        }
      ]
    },
    {
      "cell_type": "markdown",
      "metadata": {
        "id": "OJbbcO9yhP9z"
      },
      "source": [
        "Pieces of data (like \"hello\" or 3.14 or True or 55) can be saved in **variables**. This makes it easier to reference them in our code later on:"
      ]
    },
    {
      "cell_type": "code",
      "metadata": {
        "id": "zIcNweQDgG4-"
      },
      "source": [
        "# We make variable assignments with a single equals sign, =\n",
        "x = 55"
      ],
      "execution_count": null,
      "outputs": []
    },
    {
      "cell_type": "code",
      "metadata": {
        "colab": {
          "base_uri": "https://localhost:8080/"
        },
        "id": "ype3MS4VgG8a",
        "outputId": "f0d93ae7-ae72-4b30-beca-0d5115cbf51f"
      },
      "source": [
        "print(x)"
      ],
      "execution_count": null,
      "outputs": [
        {
          "output_type": "stream",
          "text": [
            "55\n"
          ],
          "name": "stdout"
        }
      ]
    },
    {
      "cell_type": "code",
      "metadata": {
        "colab": {
          "base_uri": "https://localhost:8080/"
        },
        "id": "CMsWVZZKgHAq",
        "outputId": "f290311f-8aad-48da-c340-2dfbb32e307d"
      },
      "source": [
        "print(x*3)"
      ],
      "execution_count": null,
      "outputs": [
        {
          "output_type": "stream",
          "text": [
            "165\n"
          ],
          "name": "stdout"
        }
      ]
    },
    {
      "cell_type": "code",
      "metadata": {
        "id": "Rj2r69FkgHDf"
      },
      "source": [
        "y = 'hello'"
      ],
      "execution_count": null,
      "outputs": []
    },
    {
      "cell_type": "code",
      "metadata": {
        "colab": {
          "base_uri": "https://localhost:8080/"
        },
        "id": "bCTh9EJfgHG1",
        "outputId": "c2382a06-4f8c-4d86-bebf-0a9d59efab6c"
      },
      "source": [
        "print(y)"
      ],
      "execution_count": null,
      "outputs": [
        {
          "output_type": "stream",
          "text": [
            "hello\n"
          ],
          "name": "stdout"
        }
      ]
    },
    {
      "cell_type": "code",
      "metadata": {
        "colab": {
          "base_uri": "https://localhost:8080/"
        },
        "id": "Bv3k9ojJh6NS",
        "outputId": "48cb36e0-db7a-49f0-ac68-51d63a8bf354"
      },
      "source": [
        "print(y*3)"
      ],
      "execution_count": null,
      "outputs": [
        {
          "output_type": "stream",
          "text": [
            "hellohellohello\n"
          ],
          "name": "stdout"
        }
      ]
    },
    {
      "cell_type": "code",
      "metadata": {
        "colab": {
          "base_uri": "https://localhost:8080/"
        },
        "id": "_hhE5oc7h6Wn",
        "outputId": "8939d4c1-3e9a-43a5-db1b-5aaee2ea4caf"
      },
      "source": [
        "print(x, y)"
      ],
      "execution_count": null,
      "outputs": [
        {
          "output_type": "stream",
          "text": [
            "55 hello\n"
          ],
          "name": "stdout"
        }
      ]
    },
    {
      "cell_type": "markdown",
      "metadata": {
        "id": "f4Io-mf3h6lw"
      },
      "source": [
        "### **Errors**\n",
        "\n",
        "We will regularly encounter errors when we're working in Python, and you shouldn't be afraid of them! They're informative and they help us figure out what might be going wrong in our code."
      ]
    },
    {
      "cell_type": "code",
      "metadata": {
        "colab": {
          "base_uri": "https://localhost:8080/",
          "height": 181
        },
        "id": "yNZjXN_Ch6pI",
        "outputId": "8bddf771-a3ab-4762-e708-183d7e714dfd"
      },
      "source": [
        "# we get a Type error when trying to add an integer and a string\n",
        "x + y"
      ],
      "execution_count": null,
      "outputs": [
        {
          "output_type": "error",
          "ename": "TypeError",
          "evalue": "ignored",
          "traceback": [
            "\u001b[0;31m---------------------------------------------------------------------------\u001b[0m",
            "\u001b[0;31mTypeError\u001b[0m                                 Traceback (most recent call last)",
            "\u001b[0;32m<ipython-input-11-c20f2641d22c>\u001b[0m in \u001b[0;36m<module>\u001b[0;34m()\u001b[0m\n\u001b[1;32m      1\u001b[0m \u001b[0;31m# we get a Type error when trying to add an integer and a string\u001b[0m\u001b[0;34m\u001b[0m\u001b[0;34m\u001b[0m\u001b[0;34m\u001b[0m\u001b[0m\n\u001b[0;32m----> 2\u001b[0;31m \u001b[0mx\u001b[0m \u001b[0;34m+\u001b[0m \u001b[0my\u001b[0m\u001b[0;34m\u001b[0m\u001b[0;34m\u001b[0m\u001b[0m\n\u001b[0m",
            "\u001b[0;31mTypeError\u001b[0m: unsupported operand type(s) for +: 'int' and 'str'"
          ]
        }
      ]
    },
    {
      "cell_type": "code",
      "metadata": {
        "colab": {
          "base_uri": "https://localhost:8080/",
          "height": 164
        },
        "id": "I8uSGeqMndcT",
        "outputId": "d5660938-e481-49f5-a26e-96a8b3dfc3c5"
      },
      "source": [
        "print(100.0/0)"
      ],
      "execution_count": null,
      "outputs": [
        {
          "output_type": "error",
          "ename": "ZeroDivisionError",
          "evalue": "ignored",
          "traceback": [
            "\u001b[0;31m---------------------------------------------------------------------------\u001b[0m",
            "\u001b[0;31mZeroDivisionError\u001b[0m                         Traceback (most recent call last)",
            "\u001b[0;32m<ipython-input-13-955ae7c3759a>\u001b[0m in \u001b[0;36m<module>\u001b[0;34m()\u001b[0m\n\u001b[0;32m----> 1\u001b[0;31m \u001b[0mprint\u001b[0m\u001b[0;34m(\u001b[0m\u001b[0;36m100.0\u001b[0m\u001b[0;34m/\u001b[0m\u001b[0;36m0\u001b[0m\u001b[0;34m)\u001b[0m\u001b[0;34m\u001b[0m\u001b[0;34m\u001b[0m\u001b[0m\n\u001b[0m",
            "\u001b[0;31mZeroDivisionError\u001b[0m: float division by zero"
          ]
        }
      ]
    },
    {
      "cell_type": "markdown",
      "metadata": {
        "id": "K_nYNqUTh6rl"
      },
      "source": [
        "### **Lists**\n",
        "\n",
        "Lists are a type of \"container\" in Python (technically, a *data structure* which is an array - a sequence of ordered or unordered values stored in memory). They help us hold more than one data element at a time."
      ]
    },
    {
      "cell_type": "code",
      "metadata": {
        "id": "AUbtYDgTh6uZ"
      },
      "source": [
        "# we create lists by enclosing our data in square brackets, []\n",
        "my_list = [1, 2, 3]"
      ],
      "execution_count": null,
      "outputs": []
    },
    {
      "cell_type": "code",
      "metadata": {
        "colab": {
          "base_uri": "https://localhost:8080/"
        },
        "id": "TiyReI2oh6xB",
        "outputId": "755aa26a-1594-4737-be82-5a300d36f973"
      },
      "source": [
        "print(my_list)"
      ],
      "execution_count": null,
      "outputs": [
        {
          "output_type": "stream",
          "text": [
            "[1, 2, 3]\n"
          ],
          "name": "stdout"
        }
      ]
    },
    {
      "cell_type": "code",
      "metadata": {
        "colab": {
          "base_uri": "https://localhost:8080/"
        },
        "id": "omNaNgI6h60i",
        "outputId": "b0d3efe7-7365-4c15-ea62-7717785aa698"
      },
      "source": [
        "# Lists can hold any type of data\n",
        "another_list = [\"bitcoin\", 188.7, False]\n",
        "\n",
        "print(another_list)"
      ],
      "execution_count": null,
      "outputs": [
        {
          "output_type": "stream",
          "text": [
            "['bitcoin', 188.7, False]\n"
          ],
          "name": "stdout"
        }
      ]
    },
    {
      "cell_type": "markdown",
      "metadata": {
        "id": "KUqD3QF3h68g"
      },
      "source": [
        "We can access individual items from our lists using square bracket indexing. Python starts its index counts at 0:"
      ]
    },
    {
      "cell_type": "code",
      "metadata": {
        "colab": {
          "base_uri": "https://localhost:8080/",
          "height": 35
        },
        "id": "RZLs8PD-h6_J",
        "outputId": "d5cc140e-7a84-4f53-c650-d72b4b15547c"
      },
      "source": [
        "another_list[0]"
      ],
      "execution_count": null,
      "outputs": [
        {
          "output_type": "execute_result",
          "data": {
            "application/vnd.google.colaboratory.intrinsic+json": {
              "type": "string"
            },
            "text/plain": [
              "'bitcoin'"
            ]
          },
          "metadata": {},
          "execution_count": 17
        }
      ]
    },
    {
      "cell_type": "code",
      "metadata": {
        "colab": {
          "base_uri": "https://localhost:8080/"
        },
        "id": "0ZF05hb3h7Cv",
        "outputId": "cb4b2f0c-b106-421f-8058-d4959c45946f"
      },
      "source": [
        "another_list[1]"
      ],
      "execution_count": null,
      "outputs": [
        {
          "output_type": "execute_result",
          "data": {
            "text/plain": [
              "188.7"
            ]
          },
          "metadata": {},
          "execution_count": 18
        }
      ]
    },
    {
      "cell_type": "code",
      "metadata": {
        "colab": {
          "base_uri": "https://localhost:8080/"
        },
        "id": "8-aCg_XWh7Eh",
        "outputId": "69e4e6d7-895a-44bc-9979-1a6b578b51dd"
      },
      "source": [
        "another_list[2]"
      ],
      "execution_count": null,
      "outputs": [
        {
          "output_type": "execute_result",
          "data": {
            "text/plain": [
              "False"
            ]
          },
          "metadata": {},
          "execution_count": 19
        }
      ]
    },
    {
      "cell_type": "markdown",
      "metadata": {
        "id": "y1-q4g4Zh7J5"
      },
      "source": [
        "### **Looping**\n",
        "\n",
        "This is a technique that we can use to access each list item one-at-a-time, in succession. For example, rather than printing out each list item manually like we did above, we could use a loop:"
      ]
    },
    {
      "cell_type": "code",
      "metadata": {
        "colab": {
          "base_uri": "https://localhost:8080/"
        },
        "id": "zbUFbrtKh7MO",
        "outputId": "1285e65e-16d9-49e5-f002-b4620fdbccee"
      },
      "source": [
        "for item in another_list:\n",
        "    print(item)"
      ],
      "execution_count": null,
      "outputs": [
        {
          "output_type": "stream",
          "text": [
            "bitcoin\n",
            "188.7\n",
            "False\n"
          ],
          "name": "stdout"
        }
      ]
    },
    {
      "cell_type": "code",
      "metadata": {
        "colab": {
          "base_uri": "https://localhost:8080/"
        },
        "id": "lQGO-xMeh7Pa",
        "outputId": "b61127f2-aad5-4b62-d37e-19628831bbe7"
      },
      "source": [
        "# Note that the loop variable name we choose is totally up to us.\n",
        "# This is the exact same loop as above\n",
        "for whatever in another_list:\n",
        "    print(whatever)"
      ],
      "execution_count": null,
      "outputs": [
        {
          "output_type": "stream",
          "text": [
            "bitcoin\n",
            "188.7\n",
            "False\n"
          ],
          "name": "stdout"
        }
      ]
    },
    {
      "cell_type": "markdown",
      "metadata": {
        "id": "oiY_UBVYh7Se"
      },
      "source": [
        "We'll explore 2 Python packages for working with data. The first is called **Pandas**, and gives us the ability to load in, manipulate and analyze tables of data. The second is called **Seaborn**, which is a package dedicated to data visualization.\n",
        "\n",
        "First thing's first, we'll need to load in some data. We can read in data directly with pandas from cloud storage in Google Drive!"
      ]
    },
    {
      "cell_type": "code",
      "metadata": {
        "id": "foU5Fjj-blcd"
      },
      "source": [
        "# Let's import the packages we need to use\n",
        "import pandas as pd"
      ],
      "execution_count": null,
      "outputs": []
    },
    {
      "cell_type": "code",
      "metadata": {
        "id": "vtqMF9dSxaoP"
      },
      "source": [
        "# Read in the data from Google Drive\n",
        "url='https://drive.google.com/uc?id=1wLuyOzM81IjBSwLflfB54CSx6KxY5NAe'\n",
        "df = pd.read_csv(url)"
      ],
      "execution_count": null,
      "outputs": []
    },
    {
      "cell_type": "code",
      "metadata": {
        "colab": {
          "base_uri": "https://localhost:8080/",
          "height": 394
        },
        "id": "QEuIqZKwxvg3",
        "outputId": "2400baa6-5730-49a1-a90e-21754092e32a"
      },
      "source": [
        "# Take a look\n",
        "df.head()"
      ],
      "execution_count": null,
      "outputs": [
        {
          "output_type": "execute_result",
          "data": {
            "text/html": [
              "<div>\n",
              "<style scoped>\n",
              "    .dataframe tbody tr th:only-of-type {\n",
              "        vertical-align: middle;\n",
              "    }\n",
              "\n",
              "    .dataframe tbody tr th {\n",
              "        vertical-align: top;\n",
              "    }\n",
              "\n",
              "    .dataframe thead th {\n",
              "        text-align: right;\n",
              "    }\n",
              "</style>\n",
              "<table border=\"1\" class=\"dataframe\">\n",
              "  <thead>\n",
              "    <tr style=\"text-align: right;\">\n",
              "      <th></th>\n",
              "      <th>id</th>\n",
              "      <th>name</th>\n",
              "      <th>popularity</th>\n",
              "      <th>duration_ms</th>\n",
              "      <th>explicit</th>\n",
              "      <th>artists</th>\n",
              "      <th>id_artists</th>\n",
              "      <th>release_date</th>\n",
              "      <th>danceability</th>\n",
              "      <th>energy</th>\n",
              "      <th>key</th>\n",
              "      <th>loudness</th>\n",
              "      <th>mode</th>\n",
              "      <th>speechiness</th>\n",
              "      <th>acousticness</th>\n",
              "      <th>instrumentalness</th>\n",
              "      <th>liveness</th>\n",
              "      <th>valence</th>\n",
              "      <th>tempo</th>\n",
              "      <th>time_signature</th>\n",
              "      <th>main_artist</th>\n",
              "    </tr>\n",
              "  </thead>\n",
              "  <tbody>\n",
              "    <tr>\n",
              "      <th>0</th>\n",
              "      <td>1PWnjvzT5Jhpfnh96DRNDh</td>\n",
              "      <td>Best I Ever Had</td>\n",
              "      <td>51</td>\n",
              "      <td>258800</td>\n",
              "      <td>0</td>\n",
              "      <td>['Drake']</td>\n",
              "      <td>['3TVXtAsR1Inumwj472S9r4']</td>\n",
              "      <td>2009-01-01</td>\n",
              "      <td>0.441</td>\n",
              "      <td>0.904</td>\n",
              "      <td>1</td>\n",
              "      <td>-2.636</td>\n",
              "      <td>1</td>\n",
              "      <td>0.3590</td>\n",
              "      <td>0.102</td>\n",
              "      <td>0.0000</td>\n",
              "      <td>0.1960</td>\n",
              "      <td>0.529</td>\n",
              "      <td>161.740</td>\n",
              "      <td>4</td>\n",
              "      <td>Drake</td>\n",
              "    </tr>\n",
              "    <tr>\n",
              "      <th>1</th>\n",
              "      <td>32nmTtZNtJq2LQQJlYc96h</td>\n",
              "      <td>My Only Wish (This Year)</td>\n",
              "      <td>4</td>\n",
              "      <td>254720</td>\n",
              "      <td>0</td>\n",
              "      <td>['Britney Spears']</td>\n",
              "      <td>['26dSoYclwsYLMAKD3tpOr4']</td>\n",
              "      <td>2007-11-30</td>\n",
              "      <td>0.667</td>\n",
              "      <td>0.715</td>\n",
              "      <td>0</td>\n",
              "      <td>-8.017</td>\n",
              "      <td>1</td>\n",
              "      <td>0.0269</td>\n",
              "      <td>0.184</td>\n",
              "      <td>0.0000</td>\n",
              "      <td>0.1860</td>\n",
              "      <td>0.678</td>\n",
              "      <td>147.064</td>\n",
              "      <td>4</td>\n",
              "      <td>Britney</td>\n",
              "    </tr>\n",
              "    <tr>\n",
              "      <th>2</th>\n",
              "      <td>6nx1JCehhu4N9j5qNALyTu</td>\n",
              "      <td>The Crunge - Remaster</td>\n",
              "      <td>34</td>\n",
              "      <td>197704</td>\n",
              "      <td>0</td>\n",
              "      <td>['Led Zeppelin']</td>\n",
              "      <td>['36QJpDe2go2KgaRleHCDTp']</td>\n",
              "      <td>1973-03-28</td>\n",
              "      <td>0.531</td>\n",
              "      <td>0.798</td>\n",
              "      <td>2</td>\n",
              "      <td>-8.514</td>\n",
              "      <td>1</td>\n",
              "      <td>0.1480</td>\n",
              "      <td>0.132</td>\n",
              "      <td>0.0000</td>\n",
              "      <td>0.3560</td>\n",
              "      <td>0.852</td>\n",
              "      <td>112.609</td>\n",
              "      <td>5</td>\n",
              "      <td>Zeppelin</td>\n",
              "    </tr>\n",
              "    <tr>\n",
              "      <th>3</th>\n",
              "      <td>4pW4DF1119GLHiuWE7Jcb4</td>\n",
              "      <td>Thank You - Remaster</td>\n",
              "      <td>48</td>\n",
              "      <td>289485</td>\n",
              "      <td>0</td>\n",
              "      <td>['Led Zeppelin']</td>\n",
              "      <td>['36QJpDe2go2KgaRleHCDTp']</td>\n",
              "      <td>1969-10-22</td>\n",
              "      <td>0.292</td>\n",
              "      <td>0.306</td>\n",
              "      <td>7</td>\n",
              "      <td>-13.158</td>\n",
              "      <td>1</td>\n",
              "      <td>0.0547</td>\n",
              "      <td>0.184</td>\n",
              "      <td>0.0046</td>\n",
              "      <td>0.1440</td>\n",
              "      <td>0.131</td>\n",
              "      <td>79.406</td>\n",
              "      <td>4</td>\n",
              "      <td>Zeppelin</td>\n",
              "    </tr>\n",
              "    <tr>\n",
              "      <th>4</th>\n",
              "      <td>1pYKzfOlpHWtVUiEIu4Vn7</td>\n",
              "      <td>What's My Name?</td>\n",
              "      <td>53</td>\n",
              "      <td>263173</td>\n",
              "      <td>0</td>\n",
              "      <td>['Rihanna', 'Drake']</td>\n",
              "      <td>['5pKCCKE2ajJHZ9KAiaK11H', '3TVXtAsR1Inumwj472...</td>\n",
              "      <td>2010-11-15</td>\n",
              "      <td>0.695</td>\n",
              "      <td>0.782</td>\n",
              "      <td>2</td>\n",
              "      <td>-2.967</td>\n",
              "      <td>1</td>\n",
              "      <td>0.0629</td>\n",
              "      <td>0.223</td>\n",
              "      <td>0.0000</td>\n",
              "      <td>0.0773</td>\n",
              "      <td>0.595</td>\n",
              "      <td>99.992</td>\n",
              "      <td>4</td>\n",
              "      <td>Drake</td>\n",
              "    </tr>\n",
              "  </tbody>\n",
              "</table>\n",
              "</div>"
            ],
            "text/plain": [
              "                       id                      name  ...  time_signature  main_artist\n",
              "0  1PWnjvzT5Jhpfnh96DRNDh           Best I Ever Had  ...               4        Drake\n",
              "1  32nmTtZNtJq2LQQJlYc96h  My Only Wish (This Year)  ...               4      Britney\n",
              "2  6nx1JCehhu4N9j5qNALyTu     The Crunge - Remaster  ...               5     Zeppelin\n",
              "3  4pW4DF1119GLHiuWE7Jcb4      Thank You - Remaster  ...               4     Zeppelin\n",
              "4  1pYKzfOlpHWtVUiEIu4Vn7           What's My Name?  ...               4        Drake\n",
              "\n",
              "[5 rows x 21 columns]"
            ]
          },
          "metadata": {},
          "execution_count": 3
        }
      ]
    },
    {
      "cell_type": "markdown",
      "metadata": {
        "id": "laRUVCjvp6aY"
      },
      "source": [
        "This dataset is collected from Spotify's API. We requested data about songs from any artist whose artist contains `Drake`, `Britney Spears` or `Led Zeppelin`.\n",
        "\n",
        "Spotify's API returns a rich set of data about each song's audio properties. These are the audio qualities they use to capture a song's feel and generate playlists geared to a user's tastes.\n",
        "\n",
        "**Our investigative goal:** What are the audio attributes that distiguish these three artists from one another?"
      ]
    },
    {
      "cell_type": "markdown",
      "metadata": {
        "id": "PQ3u70D-GcAd"
      },
      "source": [
        "## **Session 2: Exploring data & identifying trends**"
      ]
    },
    {
      "cell_type": "code",
      "metadata": {
        "colab": {
          "base_uri": "https://localhost:8080/",
          "height": 394
        },
        "id": "tZ62B1UqGcAd",
        "outputId": "4d57a164-8ca8-4bed-f42a-21fbbbcea737"
      },
      "source": [
        "# Remind ourselves of the dataset\n",
        "df.head()"
      ],
      "execution_count": null,
      "outputs": [
        {
          "output_type": "execute_result",
          "data": {
            "text/html": [
              "<div>\n",
              "<style scoped>\n",
              "    .dataframe tbody tr th:only-of-type {\n",
              "        vertical-align: middle;\n",
              "    }\n",
              "\n",
              "    .dataframe tbody tr th {\n",
              "        vertical-align: top;\n",
              "    }\n",
              "\n",
              "    .dataframe thead th {\n",
              "        text-align: right;\n",
              "    }\n",
              "</style>\n",
              "<table border=\"1\" class=\"dataframe\">\n",
              "  <thead>\n",
              "    <tr style=\"text-align: right;\">\n",
              "      <th></th>\n",
              "      <th>id</th>\n",
              "      <th>name</th>\n",
              "      <th>popularity</th>\n",
              "      <th>duration_ms</th>\n",
              "      <th>explicit</th>\n",
              "      <th>artists</th>\n",
              "      <th>id_artists</th>\n",
              "      <th>release_date</th>\n",
              "      <th>danceability</th>\n",
              "      <th>energy</th>\n",
              "      <th>key</th>\n",
              "      <th>loudness</th>\n",
              "      <th>mode</th>\n",
              "      <th>speechiness</th>\n",
              "      <th>acousticness</th>\n",
              "      <th>instrumentalness</th>\n",
              "      <th>liveness</th>\n",
              "      <th>valence</th>\n",
              "      <th>tempo</th>\n",
              "      <th>time_signature</th>\n",
              "      <th>main_artist</th>\n",
              "    </tr>\n",
              "  </thead>\n",
              "  <tbody>\n",
              "    <tr>\n",
              "      <th>0</th>\n",
              "      <td>1PWnjvzT5Jhpfnh96DRNDh</td>\n",
              "      <td>Best I Ever Had</td>\n",
              "      <td>51</td>\n",
              "      <td>258800</td>\n",
              "      <td>0</td>\n",
              "      <td>['Drake']</td>\n",
              "      <td>['3TVXtAsR1Inumwj472S9r4']</td>\n",
              "      <td>2009-01-01</td>\n",
              "      <td>0.441</td>\n",
              "      <td>0.904</td>\n",
              "      <td>1</td>\n",
              "      <td>-2.636</td>\n",
              "      <td>1</td>\n",
              "      <td>0.3590</td>\n",
              "      <td>0.102</td>\n",
              "      <td>0.0000</td>\n",
              "      <td>0.1960</td>\n",
              "      <td>0.529</td>\n",
              "      <td>161.740</td>\n",
              "      <td>4</td>\n",
              "      <td>Drake</td>\n",
              "    </tr>\n",
              "    <tr>\n",
              "      <th>1</th>\n",
              "      <td>32nmTtZNtJq2LQQJlYc96h</td>\n",
              "      <td>My Only Wish (This Year)</td>\n",
              "      <td>4</td>\n",
              "      <td>254720</td>\n",
              "      <td>0</td>\n",
              "      <td>['Britney Spears']</td>\n",
              "      <td>['26dSoYclwsYLMAKD3tpOr4']</td>\n",
              "      <td>2007-11-30</td>\n",
              "      <td>0.667</td>\n",
              "      <td>0.715</td>\n",
              "      <td>0</td>\n",
              "      <td>-8.017</td>\n",
              "      <td>1</td>\n",
              "      <td>0.0269</td>\n",
              "      <td>0.184</td>\n",
              "      <td>0.0000</td>\n",
              "      <td>0.1860</td>\n",
              "      <td>0.678</td>\n",
              "      <td>147.064</td>\n",
              "      <td>4</td>\n",
              "      <td>Britney</td>\n",
              "    </tr>\n",
              "    <tr>\n",
              "      <th>2</th>\n",
              "      <td>6nx1JCehhu4N9j5qNALyTu</td>\n",
              "      <td>The Crunge - Remaster</td>\n",
              "      <td>34</td>\n",
              "      <td>197704</td>\n",
              "      <td>0</td>\n",
              "      <td>['Led Zeppelin']</td>\n",
              "      <td>['36QJpDe2go2KgaRleHCDTp']</td>\n",
              "      <td>1973-03-28</td>\n",
              "      <td>0.531</td>\n",
              "      <td>0.798</td>\n",
              "      <td>2</td>\n",
              "      <td>-8.514</td>\n",
              "      <td>1</td>\n",
              "      <td>0.1480</td>\n",
              "      <td>0.132</td>\n",
              "      <td>0.0000</td>\n",
              "      <td>0.3560</td>\n",
              "      <td>0.852</td>\n",
              "      <td>112.609</td>\n",
              "      <td>5</td>\n",
              "      <td>Zeppelin</td>\n",
              "    </tr>\n",
              "    <tr>\n",
              "      <th>3</th>\n",
              "      <td>4pW4DF1119GLHiuWE7Jcb4</td>\n",
              "      <td>Thank You - Remaster</td>\n",
              "      <td>48</td>\n",
              "      <td>289485</td>\n",
              "      <td>0</td>\n",
              "      <td>['Led Zeppelin']</td>\n",
              "      <td>['36QJpDe2go2KgaRleHCDTp']</td>\n",
              "      <td>1969-10-22</td>\n",
              "      <td>0.292</td>\n",
              "      <td>0.306</td>\n",
              "      <td>7</td>\n",
              "      <td>-13.158</td>\n",
              "      <td>1</td>\n",
              "      <td>0.0547</td>\n",
              "      <td>0.184</td>\n",
              "      <td>0.0046</td>\n",
              "      <td>0.1440</td>\n",
              "      <td>0.131</td>\n",
              "      <td>79.406</td>\n",
              "      <td>4</td>\n",
              "      <td>Zeppelin</td>\n",
              "    </tr>\n",
              "    <tr>\n",
              "      <th>4</th>\n",
              "      <td>1pYKzfOlpHWtVUiEIu4Vn7</td>\n",
              "      <td>What's My Name?</td>\n",
              "      <td>53</td>\n",
              "      <td>263173</td>\n",
              "      <td>0</td>\n",
              "      <td>['Rihanna', 'Drake']</td>\n",
              "      <td>['5pKCCKE2ajJHZ9KAiaK11H', '3TVXtAsR1Inumwj472...</td>\n",
              "      <td>2010-11-15</td>\n",
              "      <td>0.695</td>\n",
              "      <td>0.782</td>\n",
              "      <td>2</td>\n",
              "      <td>-2.967</td>\n",
              "      <td>1</td>\n",
              "      <td>0.0629</td>\n",
              "      <td>0.223</td>\n",
              "      <td>0.0000</td>\n",
              "      <td>0.0773</td>\n",
              "      <td>0.595</td>\n",
              "      <td>99.992</td>\n",
              "      <td>4</td>\n",
              "      <td>Drake</td>\n",
              "    </tr>\n",
              "  </tbody>\n",
              "</table>\n",
              "</div>"
            ],
            "text/plain": [
              "                       id                      name  ...  time_signature  main_artist\n",
              "0  1PWnjvzT5Jhpfnh96DRNDh           Best I Ever Had  ...               4        Drake\n",
              "1  32nmTtZNtJq2LQQJlYc96h  My Only Wish (This Year)  ...               4      Britney\n",
              "2  6nx1JCehhu4N9j5qNALyTu     The Crunge - Remaster  ...               5     Zeppelin\n",
              "3  4pW4DF1119GLHiuWE7Jcb4      Thank You - Remaster  ...               4     Zeppelin\n",
              "4  1pYKzfOlpHWtVUiEIu4Vn7           What's My Name?  ...               4        Drake\n",
              "\n",
              "[5 rows x 21 columns]"
            ]
          },
          "metadata": {},
          "execution_count": 25
        }
      ]
    },
    {
      "cell_type": "code",
      "metadata": {
        "colab": {
          "base_uri": "https://localhost:8080/"
        },
        "id": "OcP38-hGv52-",
        "outputId": "6a932d63-6251-49be-d849-6332b388e539"
      },
      "source": [
        "# How many rows and columns?\n",
        "df.shape"
      ],
      "execution_count": null,
      "outputs": [
        {
          "output_type": "execute_result",
          "data": {
            "text/plain": [
              "(636, 21)"
            ]
          },
          "metadata": {},
          "execution_count": 26
        }
      ]
    },
    {
      "cell_type": "code",
      "metadata": {
        "colab": {
          "base_uri": "https://localhost:8080/"
        },
        "id": "S6vfXpkEbmDB",
        "outputId": "4235b60d-57d6-422a-c548-faf430599651"
      },
      "source": [
        "df.info()"
      ],
      "execution_count": null,
      "outputs": [
        {
          "output_type": "stream",
          "text": [
            "<class 'pandas.core.frame.DataFrame'>\n",
            "RangeIndex: 636 entries, 0 to 635\n",
            "Data columns (total 21 columns):\n",
            " #   Column            Non-Null Count  Dtype  \n",
            "---  ------            --------------  -----  \n",
            " 0   id                636 non-null    object \n",
            " 1   name              636 non-null    object \n",
            " 2   popularity        636 non-null    int64  \n",
            " 3   duration_ms       636 non-null    int64  \n",
            " 4   explicit          636 non-null    int64  \n",
            " 5   artists           636 non-null    object \n",
            " 6   id_artists        636 non-null    object \n",
            " 7   release_date      636 non-null    object \n",
            " 8   danceability      636 non-null    float64\n",
            " 9   energy            636 non-null    float64\n",
            " 10  key               636 non-null    int64  \n",
            " 11  loudness          636 non-null    float64\n",
            " 12  mode              636 non-null    int64  \n",
            " 13  speechiness       636 non-null    float64\n",
            " 14  acousticness      636 non-null    float64\n",
            " 15  instrumentalness  636 non-null    float64\n",
            " 16  liveness          636 non-null    float64\n",
            " 17  valence           636 non-null    float64\n",
            " 18  tempo             636 non-null    float64\n",
            " 19  time_signature    636 non-null    int64  \n",
            " 20  main_artist       636 non-null    object \n",
            "dtypes: float64(9), int64(6), object(6)\n",
            "memory usage: 104.5+ KB\n"
          ],
          "name": "stdout"
        }
      ]
    },
    {
      "cell_type": "markdown",
      "metadata": {
        "id": "sQCkviOzrAIO"
      },
      "source": [
        "Looks like we have a lot of numerical attributes. Let's get a feel for them."
      ]
    },
    {
      "cell_type": "code",
      "metadata": {
        "colab": {
          "base_uri": "https://localhost:8080/",
          "height": 317
        },
        "id": "oGnhKlEEbmGv",
        "outputId": "bbd81170-db74-4a9b-c817-a4ccf750cd63"
      },
      "source": [
        "df.describe()"
      ],
      "execution_count": null,
      "outputs": [
        {
          "output_type": "execute_result",
          "data": {
            "text/html": [
              "<div>\n",
              "<style scoped>\n",
              "    .dataframe tbody tr th:only-of-type {\n",
              "        vertical-align: middle;\n",
              "    }\n",
              "\n",
              "    .dataframe tbody tr th {\n",
              "        vertical-align: top;\n",
              "    }\n",
              "\n",
              "    .dataframe thead th {\n",
              "        text-align: right;\n",
              "    }\n",
              "</style>\n",
              "<table border=\"1\" class=\"dataframe\">\n",
              "  <thead>\n",
              "    <tr style=\"text-align: right;\">\n",
              "      <th></th>\n",
              "      <th>popularity</th>\n",
              "      <th>duration_ms</th>\n",
              "      <th>explicit</th>\n",
              "      <th>danceability</th>\n",
              "      <th>energy</th>\n",
              "      <th>key</th>\n",
              "      <th>loudness</th>\n",
              "      <th>mode</th>\n",
              "      <th>speechiness</th>\n",
              "      <th>acousticness</th>\n",
              "      <th>instrumentalness</th>\n",
              "      <th>liveness</th>\n",
              "      <th>valence</th>\n",
              "      <th>tempo</th>\n",
              "      <th>time_signature</th>\n",
              "    </tr>\n",
              "  </thead>\n",
              "  <tbody>\n",
              "    <tr>\n",
              "      <th>count</th>\n",
              "      <td>636.00000</td>\n",
              "      <td>6.360000e+02</td>\n",
              "      <td>636.000000</td>\n",
              "      <td>636.000000</td>\n",
              "      <td>636.000000</td>\n",
              "      <td>636.000000</td>\n",
              "      <td>636.000000</td>\n",
              "      <td>636.000000</td>\n",
              "      <td>636.000000</td>\n",
              "      <td>636.000000</td>\n",
              "      <td>636.000000</td>\n",
              "      <td>636.000000</td>\n",
              "      <td>636.000000</td>\n",
              "      <td>636.000000</td>\n",
              "      <td>636.000000</td>\n",
              "    </tr>\n",
              "    <tr>\n",
              "      <th>mean</th>\n",
              "      <td>51.97327</td>\n",
              "      <td>2.799651e+05</td>\n",
              "      <td>0.375786</td>\n",
              "      <td>0.556667</td>\n",
              "      <td>0.644586</td>\n",
              "      <td>4.687107</td>\n",
              "      <td>-8.618330</td>\n",
              "      <td>0.691824</td>\n",
              "      <td>0.129658</td>\n",
              "      <td>0.203935</td>\n",
              "      <td>0.072349</td>\n",
              "      <td>0.210039</td>\n",
              "      <td>0.472629</td>\n",
              "      <td>119.558011</td>\n",
              "      <td>3.926101</td>\n",
              "    </tr>\n",
              "    <tr>\n",
              "      <th>std</th>\n",
              "      <td>17.36802</td>\n",
              "      <td>1.146586e+05</td>\n",
              "      <td>0.484706</td>\n",
              "      <td>0.183620</td>\n",
              "      <td>0.198221</td>\n",
              "      <td>3.530460</td>\n",
              "      <td>3.164313</td>\n",
              "      <td>0.462103</td>\n",
              "      <td>0.128858</td>\n",
              "      <td>0.232138</td>\n",
              "      <td>0.201934</td>\n",
              "      <td>0.181720</td>\n",
              "      <td>0.237876</td>\n",
              "      <td>29.509409</td>\n",
              "      <td>0.411501</td>\n",
              "    </tr>\n",
              "    <tr>\n",
              "      <th>min</th>\n",
              "      <td>0.00000</td>\n",
              "      <td>9.837300e+04</td>\n",
              "      <td>0.000000</td>\n",
              "      <td>0.177000</td>\n",
              "      <td>0.172000</td>\n",
              "      <td>0.000000</td>\n",
              "      <td>-18.524000</td>\n",
              "      <td>0.000000</td>\n",
              "      <td>0.024500</td>\n",
              "      <td>0.000052</td>\n",
              "      <td>0.000000</td>\n",
              "      <td>0.028600</td>\n",
              "      <td>0.037100</td>\n",
              "      <td>65.041000</td>\n",
              "      <td>1.000000</td>\n",
              "    </tr>\n",
              "    <tr>\n",
              "      <th>25%</th>\n",
              "      <td>40.00000</td>\n",
              "      <td>2.163600e+05</td>\n",
              "      <td>0.000000</td>\n",
              "      <td>0.405500</td>\n",
              "      <td>0.487750</td>\n",
              "      <td>2.000000</td>\n",
              "      <td>-10.384250</td>\n",
              "      <td>0.000000</td>\n",
              "      <td>0.043650</td>\n",
              "      <td>0.031850</td>\n",
              "      <td>0.000000</td>\n",
              "      <td>0.098650</td>\n",
              "      <td>0.293500</td>\n",
              "      <td>96.131000</td>\n",
              "      <td>4.000000</td>\n",
              "    </tr>\n",
              "    <tr>\n",
              "      <th>50%</th>\n",
              "      <td>53.00000</td>\n",
              "      <td>2.552265e+05</td>\n",
              "      <td>0.000000</td>\n",
              "      <td>0.545000</td>\n",
              "      <td>0.661000</td>\n",
              "      <td>4.000000</td>\n",
              "      <td>-8.435000</td>\n",
              "      <td>1.000000</td>\n",
              "      <td>0.066150</td>\n",
              "      <td>0.103000</td>\n",
              "      <td>0.000085</td>\n",
              "      <td>0.138000</td>\n",
              "      <td>0.448000</td>\n",
              "      <td>113.879500</td>\n",
              "      <td>4.000000</td>\n",
              "    </tr>\n",
              "    <tr>\n",
              "      <th>75%</th>\n",
              "      <td>64.00000</td>\n",
              "      <td>3.113078e+05</td>\n",
              "      <td>1.000000</td>\n",
              "      <td>0.704000</td>\n",
              "      <td>0.824000</td>\n",
              "      <td>8.000000</td>\n",
              "      <td>-6.387500</td>\n",
              "      <td>1.000000</td>\n",
              "      <td>0.170000</td>\n",
              "      <td>0.300000</td>\n",
              "      <td>0.011900</td>\n",
              "      <td>0.252000</td>\n",
              "      <td>0.662000</td>\n",
              "      <td>141.657500</td>\n",
              "      <td>4.000000</td>\n",
              "    </tr>\n",
              "    <tr>\n",
              "      <th>max</th>\n",
              "      <td>91.00000</td>\n",
              "      <td>1.758307e+06</td>\n",
              "      <td>1.000000</td>\n",
              "      <td>0.963000</td>\n",
              "      <td>0.979000</td>\n",
              "      <td>11.000000</td>\n",
              "      <td>-1.304000</td>\n",
              "      <td>1.000000</td>\n",
              "      <td>0.730000</td>\n",
              "      <td>0.970000</td>\n",
              "      <td>0.949000</td>\n",
              "      <td>0.967000</td>\n",
              "      <td>0.976000</td>\n",
              "      <td>205.470000</td>\n",
              "      <td>5.000000</td>\n",
              "    </tr>\n",
              "  </tbody>\n",
              "</table>\n",
              "</div>"
            ],
            "text/plain": [
              "       popularity   duration_ms  ...       tempo  time_signature\n",
              "count   636.00000  6.360000e+02  ...  636.000000      636.000000\n",
              "mean     51.97327  2.799651e+05  ...  119.558011        3.926101\n",
              "std      17.36802  1.146586e+05  ...   29.509409        0.411501\n",
              "min       0.00000  9.837300e+04  ...   65.041000        1.000000\n",
              "25%      40.00000  2.163600e+05  ...   96.131000        4.000000\n",
              "50%      53.00000  2.552265e+05  ...  113.879500        4.000000\n",
              "75%      64.00000  3.113078e+05  ...  141.657500        4.000000\n",
              "max      91.00000  1.758307e+06  ...  205.470000        5.000000\n",
              "\n",
              "[8 rows x 15 columns]"
            ]
          },
          "metadata": {},
          "execution_count": 28
        }
      ]
    },
    {
      "cell_type": "markdown",
      "metadata": {
        "id": "pnY7suX9bmNA"
      },
      "source": [
        "Let's explore some of these columns. We'll check the top songs across a few of them."
      ]
    },
    {
      "cell_type": "code",
      "metadata": {
        "colab": {
          "base_uri": "https://localhost:8080/",
          "height": 966
        },
        "id": "LilpEgAi9f_1",
        "outputId": "4fda3bbd-ee93-4242-92bf-2e6a359bedef"
      },
      "source": [
        "df.sort_values(by='popularity', ascending=False)"
      ],
      "execution_count": null,
      "outputs": [
        {
          "output_type": "execute_result",
          "data": {
            "text/html": [
              "<div>\n",
              "<style scoped>\n",
              "    .dataframe tbody tr th:only-of-type {\n",
              "        vertical-align: middle;\n",
              "    }\n",
              "\n",
              "    .dataframe tbody tr th {\n",
              "        vertical-align: top;\n",
              "    }\n",
              "\n",
              "    .dataframe thead th {\n",
              "        text-align: right;\n",
              "    }\n",
              "</style>\n",
              "<table border=\"1\" class=\"dataframe\">\n",
              "  <thead>\n",
              "    <tr style=\"text-align: right;\">\n",
              "      <th></th>\n",
              "      <th>id</th>\n",
              "      <th>name</th>\n",
              "      <th>popularity</th>\n",
              "      <th>duration_ms</th>\n",
              "      <th>explicit</th>\n",
              "      <th>artists</th>\n",
              "      <th>id_artists</th>\n",
              "      <th>release_date</th>\n",
              "      <th>danceability</th>\n",
              "      <th>energy</th>\n",
              "      <th>key</th>\n",
              "      <th>loudness</th>\n",
              "      <th>mode</th>\n",
              "      <th>speechiness</th>\n",
              "      <th>acousticness</th>\n",
              "      <th>instrumentalness</th>\n",
              "      <th>liveness</th>\n",
              "      <th>valence</th>\n",
              "      <th>tempo</th>\n",
              "      <th>time_signature</th>\n",
              "      <th>main_artist</th>\n",
              "    </tr>\n",
              "  </thead>\n",
              "  <tbody>\n",
              "    <tr>\n",
              "      <th>619</th>\n",
              "      <td>3aQem4jVGdhtg116TmJnHz</td>\n",
              "      <td>What’s Next</td>\n",
              "      <td>91</td>\n",
              "      <td>178154</td>\n",
              "      <td>1</td>\n",
              "      <td>['Drake']</td>\n",
              "      <td>['3TVXtAsR1Inumwj472S9r4']</td>\n",
              "      <td>2021-03-05</td>\n",
              "      <td>0.781</td>\n",
              "      <td>0.594</td>\n",
              "      <td>0</td>\n",
              "      <td>-6.959</td>\n",
              "      <td>0</td>\n",
              "      <td>0.0485</td>\n",
              "      <td>0.0136</td>\n",
              "      <td>0.000000</td>\n",
              "      <td>0.1620</td>\n",
              "      <td>0.0628</td>\n",
              "      <td>129.895</td>\n",
              "      <td>4</td>\n",
              "      <td>Drake</td>\n",
              "    </tr>\n",
              "    <tr>\n",
              "      <th>501</th>\n",
              "      <td>65OVbaJR5O1RmwOQx0875b</td>\n",
              "      <td>Wants and Needs (feat. Lil Baby)</td>\n",
              "      <td>89</td>\n",
              "      <td>192956</td>\n",
              "      <td>1</td>\n",
              "      <td>['Drake', 'Lil Baby']</td>\n",
              "      <td>['3TVXtAsR1Inumwj472S9r4', '5f7VJjfbwm532GiveG...</td>\n",
              "      <td>2021-03-05</td>\n",
              "      <td>0.578</td>\n",
              "      <td>0.449</td>\n",
              "      <td>1</td>\n",
              "      <td>-6.349</td>\n",
              "      <td>1</td>\n",
              "      <td>0.2860</td>\n",
              "      <td>0.0618</td>\n",
              "      <td>0.000002</td>\n",
              "      <td>0.1190</td>\n",
              "      <td>0.1000</td>\n",
              "      <td>136.006</td>\n",
              "      <td>4</td>\n",
              "      <td>Drake</td>\n",
              "    </tr>\n",
              "    <tr>\n",
              "      <th>454</th>\n",
              "      <td>2SAqBLGA283SUiwJ3xOUVI</td>\n",
              "      <td>Laugh Now Cry Later (feat. Lil Durk)</td>\n",
              "      <td>88</td>\n",
              "      <td>261493</td>\n",
              "      <td>1</td>\n",
              "      <td>['Drake', 'Lil Durk']</td>\n",
              "      <td>['3TVXtAsR1Inumwj472S9r4', '3hcs9uc56yIGFCSy9l...</td>\n",
              "      <td>2020-08-14</td>\n",
              "      <td>0.761</td>\n",
              "      <td>0.518</td>\n",
              "      <td>0</td>\n",
              "      <td>-8.871</td>\n",
              "      <td>1</td>\n",
              "      <td>0.1340</td>\n",
              "      <td>0.2440</td>\n",
              "      <td>0.000035</td>\n",
              "      <td>0.1070</td>\n",
              "      <td>0.5220</td>\n",
              "      <td>133.976</td>\n",
              "      <td>4</td>\n",
              "      <td>Drake</td>\n",
              "    </tr>\n",
              "    <tr>\n",
              "      <th>398</th>\n",
              "      <td>6EDO9iiTtwNv6waLwa1UUq</td>\n",
              "      <td>POPSTAR (feat. Drake)</td>\n",
              "      <td>86</td>\n",
              "      <td>200221</td>\n",
              "      <td>1</td>\n",
              "      <td>['DJ Khaled', 'Drake']</td>\n",
              "      <td>['0QHgL1lAIqAw0HtD7YldmP', '3TVXtAsR1Inumwj472...</td>\n",
              "      <td>2020-07-17</td>\n",
              "      <td>0.800</td>\n",
              "      <td>0.560</td>\n",
              "      <td>5</td>\n",
              "      <td>-4.818</td>\n",
              "      <td>0</td>\n",
              "      <td>0.2610</td>\n",
              "      <td>0.0570</td>\n",
              "      <td>0.000000</td>\n",
              "      <td>0.1340</td>\n",
              "      <td>0.4500</td>\n",
              "      <td>163.071</td>\n",
              "      <td>4</td>\n",
              "      <td>Drake</td>\n",
              "    </tr>\n",
              "    <tr>\n",
              "      <th>254</th>\n",
              "      <td>4FRW5Nza1Ym91BGV4nFWXI</td>\n",
              "      <td>Lemon Pepper Freestyle (feat. Rick Ross)</td>\n",
              "      <td>86</td>\n",
              "      <td>383037</td>\n",
              "      <td>1</td>\n",
              "      <td>['Drake', 'Rick Ross']</td>\n",
              "      <td>['3TVXtAsR1Inumwj472S9r4', '1sBkRIssrMs1AbVkOJ...</td>\n",
              "      <td>2021-03-05</td>\n",
              "      <td>0.770</td>\n",
              "      <td>0.637</td>\n",
              "      <td>1</td>\n",
              "      <td>-5.530</td>\n",
              "      <td>1</td>\n",
              "      <td>0.3450</td>\n",
              "      <td>0.1030</td>\n",
              "      <td>0.000000</td>\n",
              "      <td>0.1710</td>\n",
              "      <td>0.4310</td>\n",
              "      <td>94.966</td>\n",
              "      <td>4</td>\n",
              "      <td>Drake</td>\n",
              "    </tr>\n",
              "    <tr>\n",
              "      <th>...</th>\n",
              "      <td>...</td>\n",
              "      <td>...</td>\n",
              "      <td>...</td>\n",
              "      <td>...</td>\n",
              "      <td>...</td>\n",
              "      <td>...</td>\n",
              "      <td>...</td>\n",
              "      <td>...</td>\n",
              "      <td>...</td>\n",
              "      <td>...</td>\n",
              "      <td>...</td>\n",
              "      <td>...</td>\n",
              "      <td>...</td>\n",
              "      <td>...</td>\n",
              "      <td>...</td>\n",
              "      <td>...</td>\n",
              "      <td>...</td>\n",
              "      <td>...</td>\n",
              "      <td>...</td>\n",
              "      <td>...</td>\n",
              "      <td>...</td>\n",
              "    </tr>\n",
              "    <tr>\n",
              "      <th>477</th>\n",
              "      <td>0WuGp1CYM6LfEwyDdciFLr</td>\n",
              "      <td>Whole Lotta Love - Rough Mix with Vocal</td>\n",
              "      <td>1</td>\n",
              "      <td>340253</td>\n",
              "      <td>0</td>\n",
              "      <td>['Led Zeppelin']</td>\n",
              "      <td>['36QJpDe2go2KgaRleHCDTp']</td>\n",
              "      <td>1969-10-22</td>\n",
              "      <td>0.429</td>\n",
              "      <td>0.853</td>\n",
              "      <td>9</td>\n",
              "      <td>-12.218</td>\n",
              "      <td>1</td>\n",
              "      <td>0.2730</td>\n",
              "      <td>0.3360</td>\n",
              "      <td>0.083500</td>\n",
              "      <td>0.0834</td>\n",
              "      <td>0.3470</td>\n",
              "      <td>175.319</td>\n",
              "      <td>4</td>\n",
              "      <td>Zeppelin</td>\n",
              "    </tr>\n",
              "    <tr>\n",
              "      <th>91</th>\n",
              "      <td>6WRkblRVnlmwWxdSILxW8f</td>\n",
              "      <td>My Only Wish (This Year)</td>\n",
              "      <td>0</td>\n",
              "      <td>254253</td>\n",
              "      <td>0</td>\n",
              "      <td>['Britney Spears']</td>\n",
              "      <td>['26dSoYclwsYLMAKD3tpOr4']</td>\n",
              "      <td>2019-03-29</td>\n",
              "      <td>0.670</td>\n",
              "      <td>0.806</td>\n",
              "      <td>0</td>\n",
              "      <td>-4.822</td>\n",
              "      <td>1</td>\n",
              "      <td>0.0263</td>\n",
              "      <td>0.2190</td>\n",
              "      <td>0.000000</td>\n",
              "      <td>0.2220</td>\n",
              "      <td>0.6890</td>\n",
              "      <td>147.073</td>\n",
              "      <td>4</td>\n",
              "      <td>Britney</td>\n",
              "    </tr>\n",
              "    <tr>\n",
              "      <th>160</th>\n",
              "      <td>7E9463kh8uCDLU3lVnnFyq</td>\n",
              "      <td>My Only Wish (This Year)</td>\n",
              "      <td>0</td>\n",
              "      <td>254720</td>\n",
              "      <td>0</td>\n",
              "      <td>['Britney Spears']</td>\n",
              "      <td>['26dSoYclwsYLMAKD3tpOr4']</td>\n",
              "      <td>2007-11-26</td>\n",
              "      <td>0.668</td>\n",
              "      <td>0.715</td>\n",
              "      <td>0</td>\n",
              "      <td>-8.013</td>\n",
              "      <td>1</td>\n",
              "      <td>0.0269</td>\n",
              "      <td>0.1700</td>\n",
              "      <td>0.000000</td>\n",
              "      <td>0.1850</td>\n",
              "      <td>0.6730</td>\n",
              "      <td>147.081</td>\n",
              "      <td>4</td>\n",
              "      <td>Britney</td>\n",
              "    </tr>\n",
              "    <tr>\n",
              "      <th>407</th>\n",
              "      <td>5IZdJx97J47zhcQ0XrQVM9</td>\n",
              "      <td>My Only Wish (This Year)</td>\n",
              "      <td>0</td>\n",
              "      <td>254493</td>\n",
              "      <td>0</td>\n",
              "      <td>['Britney Spears']</td>\n",
              "      <td>['26dSoYclwsYLMAKD3tpOr4']</td>\n",
              "      <td>2006-12-04</td>\n",
              "      <td>0.661</td>\n",
              "      <td>0.677</td>\n",
              "      <td>0</td>\n",
              "      <td>-9.341</td>\n",
              "      <td>1</td>\n",
              "      <td>0.0277</td>\n",
              "      <td>0.1690</td>\n",
              "      <td>0.000000</td>\n",
              "      <td>0.1930</td>\n",
              "      <td>0.7110</td>\n",
              "      <td>147.087</td>\n",
              "      <td>4</td>\n",
              "      <td>Britney</td>\n",
              "    </tr>\n",
              "    <tr>\n",
              "      <th>289</th>\n",
              "      <td>07rmMcK1U8AIgUI43I7R91</td>\n",
              "      <td>My Only Wish (This Year)</td>\n",
              "      <td>0</td>\n",
              "      <td>254720</td>\n",
              "      <td>0</td>\n",
              "      <td>['Britney Spears']</td>\n",
              "      <td>['26dSoYclwsYLMAKD3tpOr4']</td>\n",
              "      <td>2007-11-16</td>\n",
              "      <td>0.667</td>\n",
              "      <td>0.715</td>\n",
              "      <td>0</td>\n",
              "      <td>-8.017</td>\n",
              "      <td>1</td>\n",
              "      <td>0.0269</td>\n",
              "      <td>0.1840</td>\n",
              "      <td>0.000000</td>\n",
              "      <td>0.1860</td>\n",
              "      <td>0.6780</td>\n",
              "      <td>147.064</td>\n",
              "      <td>4</td>\n",
              "      <td>Britney</td>\n",
              "    </tr>\n",
              "  </tbody>\n",
              "</table>\n",
              "<p>636 rows × 21 columns</p>\n",
              "</div>"
            ],
            "text/plain": [
              "                         id  ... main_artist\n",
              "619  3aQem4jVGdhtg116TmJnHz  ...       Drake\n",
              "501  65OVbaJR5O1RmwOQx0875b  ...       Drake\n",
              "454  2SAqBLGA283SUiwJ3xOUVI  ...       Drake\n",
              "398  6EDO9iiTtwNv6waLwa1UUq  ...       Drake\n",
              "254  4FRW5Nza1Ym91BGV4nFWXI  ...       Drake\n",
              "..                      ...  ...         ...\n",
              "477  0WuGp1CYM6LfEwyDdciFLr  ...    Zeppelin\n",
              "91   6WRkblRVnlmwWxdSILxW8f  ...     Britney\n",
              "160  7E9463kh8uCDLU3lVnnFyq  ...     Britney\n",
              "407  5IZdJx97J47zhcQ0XrQVM9  ...     Britney\n",
              "289  07rmMcK1U8AIgUI43I7R91  ...     Britney\n",
              "\n",
              "[636 rows x 21 columns]"
            ]
          },
          "metadata": {},
          "execution_count": 29
        }
      ]
    },
    {
      "cell_type": "code",
      "metadata": {
        "colab": {
          "base_uri": "https://localhost:8080/",
          "height": 983
        },
        "id": "VgT32JUwbmPQ",
        "outputId": "191b61af-735a-4a7f-9df3-1b009add7452"
      },
      "source": [
        "df.sort_values(by='duration_ms', ascending=False)"
      ],
      "execution_count": null,
      "outputs": [
        {
          "output_type": "execute_result",
          "data": {
            "text/html": [
              "<div>\n",
              "<style scoped>\n",
              "    .dataframe tbody tr th:only-of-type {\n",
              "        vertical-align: middle;\n",
              "    }\n",
              "\n",
              "    .dataframe tbody tr th {\n",
              "        vertical-align: top;\n",
              "    }\n",
              "\n",
              "    .dataframe thead th {\n",
              "        text-align: right;\n",
              "    }\n",
              "</style>\n",
              "<table border=\"1\" class=\"dataframe\">\n",
              "  <thead>\n",
              "    <tr style=\"text-align: right;\">\n",
              "      <th></th>\n",
              "      <th>id</th>\n",
              "      <th>name</th>\n",
              "      <th>popularity</th>\n",
              "      <th>duration_ms</th>\n",
              "      <th>explicit</th>\n",
              "      <th>artists</th>\n",
              "      <th>id_artists</th>\n",
              "      <th>release_date</th>\n",
              "      <th>danceability</th>\n",
              "      <th>energy</th>\n",
              "      <th>key</th>\n",
              "      <th>loudness</th>\n",
              "      <th>mode</th>\n",
              "      <th>speechiness</th>\n",
              "      <th>acousticness</th>\n",
              "      <th>instrumentalness</th>\n",
              "      <th>liveness</th>\n",
              "      <th>valence</th>\n",
              "      <th>tempo</th>\n",
              "      <th>time_signature</th>\n",
              "      <th>main_artist</th>\n",
              "    </tr>\n",
              "  </thead>\n",
              "  <tbody>\n",
              "    <tr>\n",
              "      <th>416</th>\n",
              "      <td>0OotzYWTwTqoszW9MrXSdZ</td>\n",
              "      <td>Dazed and Confused - (Live at MSG 1973) [Remas...</td>\n",
              "      <td>40</td>\n",
              "      <td>1758307</td>\n",
              "      <td>0</td>\n",
              "      <td>['Led Zeppelin']</td>\n",
              "      <td>['36QJpDe2go2KgaRleHCDTp']</td>\n",
              "      <td>1976-10-22</td>\n",
              "      <td>0.307</td>\n",
              "      <td>0.897</td>\n",
              "      <td>0</td>\n",
              "      <td>-8.595</td>\n",
              "      <td>1</td>\n",
              "      <td>0.1060</td>\n",
              "      <td>0.007400</td>\n",
              "      <td>0.49900</td>\n",
              "      <td>0.9420</td>\n",
              "      <td>0.218</td>\n",
              "      <td>125.893</td>\n",
              "      <td>4</td>\n",
              "      <td>Zeppelin</td>\n",
              "    </tr>\n",
              "    <tr>\n",
              "      <th>30</th>\n",
              "      <td>76HR8Ox6ApIoipqrXDheZ3</td>\n",
              "      <td>Dazed and Confused - Live in Paris, 1969</td>\n",
              "      <td>28</td>\n",
              "      <td>901640</td>\n",
              "      <td>0</td>\n",
              "      <td>['Led Zeppelin']</td>\n",
              "      <td>['36QJpDe2go2KgaRleHCDTp']</td>\n",
              "      <td>1969-01-12</td>\n",
              "      <td>0.271</td>\n",
              "      <td>0.642</td>\n",
              "      <td>2</td>\n",
              "      <td>-10.107</td>\n",
              "      <td>1</td>\n",
              "      <td>0.0778</td>\n",
              "      <td>0.000893</td>\n",
              "      <td>0.27700</td>\n",
              "      <td>0.6340</td>\n",
              "      <td>0.125</td>\n",
              "      <td>125.768</td>\n",
              "      <td>4</td>\n",
              "      <td>Zeppelin</td>\n",
              "    </tr>\n",
              "    <tr>\n",
              "      <th>450</th>\n",
              "      <td>2EbfJIOLyZcyHEZosJC0dT</td>\n",
              "      <td>Whole Lotta Love - (Live at MSG 1973) [Remaster]</td>\n",
              "      <td>37</td>\n",
              "      <td>832027</td>\n",
              "      <td>0</td>\n",
              "      <td>['Led Zeppelin']</td>\n",
              "      <td>['36QJpDe2go2KgaRleHCDTp']</td>\n",
              "      <td>1976-10-22</td>\n",
              "      <td>0.291</td>\n",
              "      <td>0.942</td>\n",
              "      <td>9</td>\n",
              "      <td>-7.912</td>\n",
              "      <td>1</td>\n",
              "      <td>0.1650</td>\n",
              "      <td>0.004500</td>\n",
              "      <td>0.03830</td>\n",
              "      <td>0.8900</td>\n",
              "      <td>0.395</td>\n",
              "      <td>105.117</td>\n",
              "      <td>4</td>\n",
              "      <td>Zeppelin</td>\n",
              "    </tr>\n",
              "    <tr>\n",
              "      <th>383</th>\n",
              "      <td>4EUe6BsZm5wZLxOTaV3kDX</td>\n",
              "      <td>In My Time of Dying - Remaster</td>\n",
              "      <td>39</td>\n",
              "      <td>668441</td>\n",
              "      <td>0</td>\n",
              "      <td>['Led Zeppelin']</td>\n",
              "      <td>['36QJpDe2go2KgaRleHCDTp']</td>\n",
              "      <td>1975-02-24</td>\n",
              "      <td>0.348</td>\n",
              "      <td>0.865</td>\n",
              "      <td>2</td>\n",
              "      <td>-9.727</td>\n",
              "      <td>1</td>\n",
              "      <td>0.0625</td>\n",
              "      <td>0.262000</td>\n",
              "      <td>0.00279</td>\n",
              "      <td>0.1210</td>\n",
              "      <td>0.471</td>\n",
              "      <td>102.078</td>\n",
              "      <td>4</td>\n",
              "      <td>Zeppelin</td>\n",
              "    </tr>\n",
              "    <tr>\n",
              "      <th>63</th>\n",
              "      <td>5g9VOUgrn7ozYE3ZQm8w41</td>\n",
              "      <td>In My Time of Dying - 1990 Remaster</td>\n",
              "      <td>52</td>\n",
              "      <td>665600</td>\n",
              "      <td>0</td>\n",
              "      <td>['Led Zeppelin']</td>\n",
              "      <td>['36QJpDe2go2KgaRleHCDTp']</td>\n",
              "      <td>1975-02-24</td>\n",
              "      <td>0.330</td>\n",
              "      <td>0.843</td>\n",
              "      <td>2</td>\n",
              "      <td>-10.221</td>\n",
              "      <td>1</td>\n",
              "      <td>0.0581</td>\n",
              "      <td>0.137000</td>\n",
              "      <td>0.00586</td>\n",
              "      <td>0.1990</td>\n",
              "      <td>0.474</td>\n",
              "      <td>101.855</td>\n",
              "      <td>4</td>\n",
              "      <td>Zeppelin</td>\n",
              "    </tr>\n",
              "    <tr>\n",
              "      <th>...</th>\n",
              "      <td>...</td>\n",
              "      <td>...</td>\n",
              "      <td>...</td>\n",
              "      <td>...</td>\n",
              "      <td>...</td>\n",
              "      <td>...</td>\n",
              "      <td>...</td>\n",
              "      <td>...</td>\n",
              "      <td>...</td>\n",
              "      <td>...</td>\n",
              "      <td>...</td>\n",
              "      <td>...</td>\n",
              "      <td>...</td>\n",
              "      <td>...</td>\n",
              "      <td>...</td>\n",
              "      <td>...</td>\n",
              "      <td>...</td>\n",
              "      <td>...</td>\n",
              "      <td>...</td>\n",
              "      <td>...</td>\n",
              "      <td>...</td>\n",
              "    </tr>\n",
              "    <tr>\n",
              "      <th>329</th>\n",
              "      <td>6kpMYSZ58MkohGS7OkO4A9</td>\n",
              "      <td>Bron-Yr-Aur - 1993 Remaster</td>\n",
              "      <td>50</td>\n",
              "      <td>126373</td>\n",
              "      <td>0</td>\n",
              "      <td>['Led Zeppelin']</td>\n",
              "      <td>['36QJpDe2go2KgaRleHCDTp']</td>\n",
              "      <td>1975-02-24</td>\n",
              "      <td>0.343</td>\n",
              "      <td>0.295</td>\n",
              "      <td>0</td>\n",
              "      <td>-18.524</td>\n",
              "      <td>1</td>\n",
              "      <td>0.0375</td>\n",
              "      <td>0.667000</td>\n",
              "      <td>0.83500</td>\n",
              "      <td>0.0946</td>\n",
              "      <td>0.261</td>\n",
              "      <td>171.668</td>\n",
              "      <td>4</td>\n",
              "      <td>Zeppelin</td>\n",
              "    </tr>\n",
              "    <tr>\n",
              "      <th>23</th>\n",
              "      <td>5HqmfJsnokv4VOzdYJkV3L</td>\n",
              "      <td>Bron-Yr-Aur - 1993 Remaster</td>\n",
              "      <td>17</td>\n",
              "      <td>126373</td>\n",
              "      <td>0</td>\n",
              "      <td>['Led Zeppelin']</td>\n",
              "      <td>['36QJpDe2go2KgaRleHCDTp']</td>\n",
              "      <td>1975-02-24</td>\n",
              "      <td>0.343</td>\n",
              "      <td>0.295</td>\n",
              "      <td>0</td>\n",
              "      <td>-18.524</td>\n",
              "      <td>1</td>\n",
              "      <td>0.0375</td>\n",
              "      <td>0.667000</td>\n",
              "      <td>0.83500</td>\n",
              "      <td>0.0946</td>\n",
              "      <td>0.261</td>\n",
              "      <td>171.668</td>\n",
              "      <td>4</td>\n",
              "      <td>Zeppelin</td>\n",
              "    </tr>\n",
              "    <tr>\n",
              "      <th>181</th>\n",
              "      <td>6rmEV2YtvWkigxPZocINO3</td>\n",
              "      <td>Black Mountain Side - 1993 Remaster</td>\n",
              "      <td>43</td>\n",
              "      <td>125667</td>\n",
              "      <td>0</td>\n",
              "      <td>['Led Zeppelin']</td>\n",
              "      <td>['36QJpDe2go2KgaRleHCDTp']</td>\n",
              "      <td>1969-01-12</td>\n",
              "      <td>0.660</td>\n",
              "      <td>0.259</td>\n",
              "      <td>6</td>\n",
              "      <td>-17.615</td>\n",
              "      <td>1</td>\n",
              "      <td>0.0495</td>\n",
              "      <td>0.695000</td>\n",
              "      <td>0.85000</td>\n",
              "      <td>0.1010</td>\n",
              "      <td>0.794</td>\n",
              "      <td>116.194</td>\n",
              "      <td>4</td>\n",
              "      <td>Zeppelin</td>\n",
              "    </tr>\n",
              "    <tr>\n",
              "      <th>529</th>\n",
              "      <td>3ppVO2tyWRRznNmONvt7Se</td>\n",
              "      <td>Summers Over Interlude</td>\n",
              "      <td>60</td>\n",
              "      <td>106333</td>\n",
              "      <td>1</td>\n",
              "      <td>['Drake', 'Majid Jordan']</td>\n",
              "      <td>['3TVXtAsR1Inumwj472S9r4', '4HzKw8XcD0piJmDrrP...</td>\n",
              "      <td>2016-05-06</td>\n",
              "      <td>0.699</td>\n",
              "      <td>0.255</td>\n",
              "      <td>4</td>\n",
              "      <td>-8.647</td>\n",
              "      <td>0</td>\n",
              "      <td>0.0303</td>\n",
              "      <td>0.405000</td>\n",
              "      <td>0.00242</td>\n",
              "      <td>0.0985</td>\n",
              "      <td>0.242</td>\n",
              "      <td>132.031</td>\n",
              "      <td>3</td>\n",
              "      <td>Drake</td>\n",
              "    </tr>\n",
              "    <tr>\n",
              "      <th>120</th>\n",
              "      <td>4lZjT7PLaWPIcm2InIDU2k</td>\n",
              "      <td>Moby Dick - Intro / Outro Rough Mix</td>\n",
              "      <td>50</td>\n",
              "      <td>98373</td>\n",
              "      <td>0</td>\n",
              "      <td>['Led Zeppelin']</td>\n",
              "      <td>['36QJpDe2go2KgaRleHCDTp']</td>\n",
              "      <td>1969-10-22</td>\n",
              "      <td>0.493</td>\n",
              "      <td>0.593</td>\n",
              "      <td>2</td>\n",
              "      <td>-13.300</td>\n",
              "      <td>0</td>\n",
              "      <td>0.0613</td>\n",
              "      <td>0.252000</td>\n",
              "      <td>0.89100</td>\n",
              "      <td>0.0733</td>\n",
              "      <td>0.841</td>\n",
              "      <td>93.397</td>\n",
              "      <td>4</td>\n",
              "      <td>Zeppelin</td>\n",
              "    </tr>\n",
              "  </tbody>\n",
              "</table>\n",
              "<p>636 rows × 21 columns</p>\n",
              "</div>"
            ],
            "text/plain": [
              "                         id  ... main_artist\n",
              "416  0OotzYWTwTqoszW9MrXSdZ  ...    Zeppelin\n",
              "30   76HR8Ox6ApIoipqrXDheZ3  ...    Zeppelin\n",
              "450  2EbfJIOLyZcyHEZosJC0dT  ...    Zeppelin\n",
              "383  4EUe6BsZm5wZLxOTaV3kDX  ...    Zeppelin\n",
              "63   5g9VOUgrn7ozYE3ZQm8w41  ...    Zeppelin\n",
              "..                      ...  ...         ...\n",
              "329  6kpMYSZ58MkohGS7OkO4A9  ...    Zeppelin\n",
              "23   5HqmfJsnokv4VOzdYJkV3L  ...    Zeppelin\n",
              "181  6rmEV2YtvWkigxPZocINO3  ...    Zeppelin\n",
              "529  3ppVO2tyWRRznNmONvt7Se  ...       Drake\n",
              "120  4lZjT7PLaWPIcm2InIDU2k  ...    Zeppelin\n",
              "\n",
              "[636 rows x 21 columns]"
            ]
          },
          "metadata": {},
          "execution_count": 30
        }
      ]
    },
    {
      "cell_type": "markdown",
      "metadata": {
        "id": "bQuxdREpbmTA"
      },
      "source": [
        "Hmmm... we notice here that duration is tracked in milliseconds. This is useful in some cases, but not very interpretable to a human reader. We'll calculate a new column for duration in minutes."
      ]
    },
    {
      "cell_type": "code",
      "metadata": {
        "id": "0x25qF13bmU7"
      },
      "source": [
        "# Calculate duration in minutes (1 min = 60 seconds = 60,000 ms)\n",
        "df['duration_mins'] = df['duration_ms'] / 1000 / 60"
      ],
      "execution_count": null,
      "outputs": []
    },
    {
      "cell_type": "code",
      "metadata": {
        "colab": {
          "base_uri": "https://localhost:8080/",
          "height": 419
        },
        "id": "ribXnLEObmXa",
        "outputId": "e0c1bfdf-fcd3-4a1f-8fab-eec8bccdc855"
      },
      "source": [
        "df[['name', 'artists', 'duration_mins']]"
      ],
      "execution_count": null,
      "outputs": [
        {
          "output_type": "execute_result",
          "data": {
            "text/html": [
              "<div>\n",
              "<style scoped>\n",
              "    .dataframe tbody tr th:only-of-type {\n",
              "        vertical-align: middle;\n",
              "    }\n",
              "\n",
              "    .dataframe tbody tr th {\n",
              "        vertical-align: top;\n",
              "    }\n",
              "\n",
              "    .dataframe thead th {\n",
              "        text-align: right;\n",
              "    }\n",
              "</style>\n",
              "<table border=\"1\" class=\"dataframe\">\n",
              "  <thead>\n",
              "    <tr style=\"text-align: right;\">\n",
              "      <th></th>\n",
              "      <th>name</th>\n",
              "      <th>artists</th>\n",
              "      <th>duration_mins</th>\n",
              "    </tr>\n",
              "  </thead>\n",
              "  <tbody>\n",
              "    <tr>\n",
              "      <th>0</th>\n",
              "      <td>Best I Ever Had</td>\n",
              "      <td>['Drake']</td>\n",
              "      <td>4.313333</td>\n",
              "    </tr>\n",
              "    <tr>\n",
              "      <th>1</th>\n",
              "      <td>My Only Wish (This Year)</td>\n",
              "      <td>['Britney Spears']</td>\n",
              "      <td>4.245333</td>\n",
              "    </tr>\n",
              "    <tr>\n",
              "      <th>2</th>\n",
              "      <td>The Crunge - Remaster</td>\n",
              "      <td>['Led Zeppelin']</td>\n",
              "      <td>3.295067</td>\n",
              "    </tr>\n",
              "    <tr>\n",
              "      <th>3</th>\n",
              "      <td>Thank You - Remaster</td>\n",
              "      <td>['Led Zeppelin']</td>\n",
              "      <td>4.824750</td>\n",
              "    </tr>\n",
              "    <tr>\n",
              "      <th>4</th>\n",
              "      <td>What's My Name?</td>\n",
              "      <td>['Rihanna', 'Drake']</td>\n",
              "      <td>4.386217</td>\n",
              "    </tr>\n",
              "    <tr>\n",
              "      <th>...</th>\n",
              "      <td>...</td>\n",
              "      <td>...</td>\n",
              "      <td>...</td>\n",
              "    </tr>\n",
              "    <tr>\n",
              "      <th>631</th>\n",
              "      <td>...Baby One More Time - Remastered</td>\n",
              "      <td>['Britney Spears']</td>\n",
              "      <td>3.510083</td>\n",
              "    </tr>\n",
              "    <tr>\n",
              "      <th>632</th>\n",
              "      <td>Candy Store Rock - Remaster</td>\n",
              "      <td>['Led Zeppelin']</td>\n",
              "      <td>4.189550</td>\n",
              "    </tr>\n",
              "    <tr>\n",
              "      <th>633</th>\n",
              "      <td>The Rain Song - Remaster</td>\n",
              "      <td>['Led Zeppelin']</td>\n",
              "      <td>7.651567</td>\n",
              "    </tr>\n",
              "    <tr>\n",
              "      <th>634</th>\n",
              "      <td>For Your Life - 1990 Remaster</td>\n",
              "      <td>['Led Zeppelin']</td>\n",
              "      <td>6.401783</td>\n",
              "    </tr>\n",
              "    <tr>\n",
              "      <th>635</th>\n",
              "      <td>The Song Remains the Same - Remaster</td>\n",
              "      <td>['Led Zeppelin']</td>\n",
              "      <td>5.484900</td>\n",
              "    </tr>\n",
              "  </tbody>\n",
              "</table>\n",
              "<p>636 rows × 3 columns</p>\n",
              "</div>"
            ],
            "text/plain": [
              "                                     name               artists  duration_mins\n",
              "0                         Best I Ever Had             ['Drake']       4.313333\n",
              "1                My Only Wish (This Year)    ['Britney Spears']       4.245333\n",
              "2                   The Crunge - Remaster      ['Led Zeppelin']       3.295067\n",
              "3                    Thank You - Remaster      ['Led Zeppelin']       4.824750\n",
              "4                         What's My Name?  ['Rihanna', 'Drake']       4.386217\n",
              "..                                    ...                   ...            ...\n",
              "631    ...Baby One More Time - Remastered    ['Britney Spears']       3.510083\n",
              "632           Candy Store Rock - Remaster      ['Led Zeppelin']       4.189550\n",
              "633              The Rain Song - Remaster      ['Led Zeppelin']       7.651567\n",
              "634         For Your Life - 1990 Remaster      ['Led Zeppelin']       6.401783\n",
              "635  The Song Remains the Same - Remaster      ['Led Zeppelin']       5.484900\n",
              "\n",
              "[636 rows x 3 columns]"
            ]
          },
          "metadata": {},
          "execution_count": 32
        }
      ]
    },
    {
      "cell_type": "code",
      "metadata": {
        "id": "s-WN3NoDtQlL"
      },
      "source": [
        "# Let's round those numbers\n",
        "df['duration_mins'] = round(df['duration_mins'], 2)"
      ],
      "execution_count": null,
      "outputs": []
    },
    {
      "cell_type": "code",
      "metadata": {
        "colab": {
          "base_uri": "https://localhost:8080/",
          "height": 419
        },
        "id": "dJgenXp7tpQx",
        "outputId": "dc431e62-0b9d-4319-83a0-b353597ed1e8"
      },
      "source": [
        "df[['name', 'artists', 'duration_mins']].sort_values(by='duration_mins', ascending=False)"
      ],
      "execution_count": null,
      "outputs": [
        {
          "output_type": "execute_result",
          "data": {
            "text/html": [
              "<div>\n",
              "<style scoped>\n",
              "    .dataframe tbody tr th:only-of-type {\n",
              "        vertical-align: middle;\n",
              "    }\n",
              "\n",
              "    .dataframe tbody tr th {\n",
              "        vertical-align: top;\n",
              "    }\n",
              "\n",
              "    .dataframe thead th {\n",
              "        text-align: right;\n",
              "    }\n",
              "</style>\n",
              "<table border=\"1\" class=\"dataframe\">\n",
              "  <thead>\n",
              "    <tr style=\"text-align: right;\">\n",
              "      <th></th>\n",
              "      <th>name</th>\n",
              "      <th>artists</th>\n",
              "      <th>duration_mins</th>\n",
              "    </tr>\n",
              "  </thead>\n",
              "  <tbody>\n",
              "    <tr>\n",
              "      <th>416</th>\n",
              "      <td>Dazed and Confused - (Live at MSG 1973) [Remas...</td>\n",
              "      <td>['Led Zeppelin']</td>\n",
              "      <td>29.31</td>\n",
              "    </tr>\n",
              "    <tr>\n",
              "      <th>30</th>\n",
              "      <td>Dazed and Confused - Live in Paris, 1969</td>\n",
              "      <td>['Led Zeppelin']</td>\n",
              "      <td>15.03</td>\n",
              "    </tr>\n",
              "    <tr>\n",
              "      <th>450</th>\n",
              "      <td>Whole Lotta Love - (Live at MSG 1973) [Remaster]</td>\n",
              "      <td>['Led Zeppelin']</td>\n",
              "      <td>13.87</td>\n",
              "    </tr>\n",
              "    <tr>\n",
              "      <th>383</th>\n",
              "      <td>In My Time of Dying - Remaster</td>\n",
              "      <td>['Led Zeppelin']</td>\n",
              "      <td>11.14</td>\n",
              "    </tr>\n",
              "    <tr>\n",
              "      <th>63</th>\n",
              "      <td>In My Time of Dying - 1990 Remaster</td>\n",
              "      <td>['Led Zeppelin']</td>\n",
              "      <td>11.09</td>\n",
              "    </tr>\n",
              "    <tr>\n",
              "      <th>...</th>\n",
              "      <td>...</td>\n",
              "      <td>...</td>\n",
              "      <td>...</td>\n",
              "    </tr>\n",
              "    <tr>\n",
              "      <th>499</th>\n",
              "      <td>Bron-Yr-Aur - Remaster</td>\n",
              "      <td>['Led Zeppelin']</td>\n",
              "      <td>2.11</td>\n",
              "    </tr>\n",
              "    <tr>\n",
              "      <th>23</th>\n",
              "      <td>Bron-Yr-Aur - 1993 Remaster</td>\n",
              "      <td>['Led Zeppelin']</td>\n",
              "      <td>2.11</td>\n",
              "    </tr>\n",
              "    <tr>\n",
              "      <th>181</th>\n",
              "      <td>Black Mountain Side - 1993 Remaster</td>\n",
              "      <td>['Led Zeppelin']</td>\n",
              "      <td>2.09</td>\n",
              "    </tr>\n",
              "    <tr>\n",
              "      <th>529</th>\n",
              "      <td>Summers Over Interlude</td>\n",
              "      <td>['Drake', 'Majid Jordan']</td>\n",
              "      <td>1.77</td>\n",
              "    </tr>\n",
              "    <tr>\n",
              "      <th>120</th>\n",
              "      <td>Moby Dick - Intro / Outro Rough Mix</td>\n",
              "      <td>['Led Zeppelin']</td>\n",
              "      <td>1.64</td>\n",
              "    </tr>\n",
              "  </tbody>\n",
              "</table>\n",
              "<p>636 rows × 3 columns</p>\n",
              "</div>"
            ],
            "text/plain": [
              "                                                  name  ... duration_mins\n",
              "416  Dazed and Confused - (Live at MSG 1973) [Remas...  ...         29.31\n",
              "30            Dazed and Confused - Live in Paris, 1969  ...         15.03\n",
              "450   Whole Lotta Love - (Live at MSG 1973) [Remaster]  ...         13.87\n",
              "383                     In My Time of Dying - Remaster  ...         11.14\n",
              "63                 In My Time of Dying - 1990 Remaster  ...         11.09\n",
              "..                                                 ...  ...           ...\n",
              "499                             Bron-Yr-Aur - Remaster  ...          2.11\n",
              "23                         Bron-Yr-Aur - 1993 Remaster  ...          2.11\n",
              "181                Black Mountain Side - 1993 Remaster  ...          2.09\n",
              "529                             Summers Over Interlude  ...          1.77\n",
              "120                Moby Dick - Intro / Outro Rough Mix  ...          1.64\n",
              "\n",
              "[636 rows x 3 columns]"
            ]
          },
          "metadata": {},
          "execution_count": 34
        }
      ]
    },
    {
      "cell_type": "code",
      "metadata": {
        "colab": {
          "base_uri": "https://localhost:8080/"
        },
        "id": "Tj9CGy5dbm2B",
        "outputId": "6494ea8c-9362-415c-d021-e9ed788927d9"
      },
      "source": [
        "# How many songs from each artist?\n",
        "df['artists'].value_counts()"
      ],
      "execution_count": null,
      "outputs": [
        {
          "output_type": "execute_result",
          "data": {
            "text/plain": [
              "['Led Zeppelin']                    293\n",
              "['Drake']                           103\n",
              "['Britney Spears']                   58\n",
              "['Drake', 'Lil Wayne']                9\n",
              "['Lil Wayne', 'Drake']                8\n",
              "                                   ... \n",
              "['Drake', 'Jeezy']                    1\n",
              "['Britney Spears', 'Don Philip']      1\n",
              "['Romeo Santos', 'Drake']             1\n",
              "['Drakeo the Ruler', 'Drake']         1\n",
              "['Alicia Keys', 'Drake']              1\n",
              "Name: artists, Length: 107, dtype: int64"
            ]
          },
          "metadata": {},
          "execution_count": 35
        }
      ]
    },
    {
      "cell_type": "markdown",
      "metadata": {
        "id": "kkaOsnk4GcAf"
      },
      "source": [
        "This is messy!\n",
        "\n",
        "Notice how Drake/Lil Wayne is being counted as a different artist than Lil Wayne/Drake. And in fact, any song with more than one artist is being counted separately than the main artist themselves.\n",
        "\n",
        "Luckily we have a column called `main_artist`, otherwise this dataset would require some careful cleaning:"
      ]
    },
    {
      "cell_type": "code",
      "metadata": {
        "colab": {
          "base_uri": "https://localhost:8080/"
        },
        "id": "TP6_sjRmRfUz",
        "outputId": "397ad1fa-fc90-45bc-ee25-800b44a733a7"
      },
      "source": [
        "df['main_artist'].value_counts()"
      ],
      "execution_count": null,
      "outputs": [
        {
          "output_type": "execute_result",
          "data": {
            "text/plain": [
              "Zeppelin    293\n",
              "Drake       275\n",
              "Britney      68\n",
              "Name: main_artist, dtype: int64"
            ]
          },
          "metadata": {},
          "execution_count": 36
        }
      ]
    },
    {
      "cell_type": "markdown",
      "metadata": {
        "id": "WCfghucS0gpB"
      },
      "source": [
        "Let's proceed with some visual exploration of the features."
      ]
    },
    {
      "cell_type": "code",
      "metadata": {
        "colab": {
          "base_uri": "https://localhost:8080/"
        },
        "id": "ceyLI7UMFyLw",
        "outputId": "7cb16554-ef4a-4e72-f7e1-dd2c0c63263a"
      },
      "source": [
        "df.columns"
      ],
      "execution_count": null,
      "outputs": [
        {
          "output_type": "execute_result",
          "data": {
            "text/plain": [
              "Index(['id', 'name', 'popularity', 'duration_ms', 'explicit', 'artists',\n",
              "       'id_artists', 'release_date', 'danceability', 'energy', 'key',\n",
              "       'loudness', 'mode', 'speechiness', 'acousticness', 'instrumentalness',\n",
              "       'liveness', 'valence', 'tempo', 'time_signature', 'main_artist',\n",
              "       'duration_mins'],\n",
              "      dtype='object')"
            ]
          },
          "metadata": {},
          "execution_count": 37
        }
      ]
    },
    {
      "cell_type": "markdown",
      "metadata": {
        "id": "McPKWyVPWan4"
      },
      "source": [
        "We will import [matplotlib](https://matplotlib.org/) and [seaborn](https://seaborn.pydata.org/) to help us with our visualizations. Some matplotlib code is built into pandas so we can visualize directly from a dataframe:"
      ]
    },
    {
      "cell_type": "code",
      "metadata": {
        "colab": {
          "base_uri": "https://localhost:8080/",
          "height": 295
        },
        "id": "DlRZYgcCnh19",
        "outputId": "a5795acd-10e8-456b-cf41-afff9541b809"
      },
      "source": [
        "import matplotlib.pyplot as plt\n",
        "import seaborn as sns\n",
        "\n",
        "# Calculate the count per main artist, sort in descending order and plot\n",
        "df['main_artist'].value_counts().sort_values().plot(kind='barh')\n",
        "# Add axes labels and title and plot\n",
        "plt.title('Count of Total Songs by Main Artist')\n",
        "plt.ylabel('Main Artist')\n",
        "plt.xlabel('Count of Songs')\n",
        "plt.show()"
      ],
      "execution_count": null,
      "outputs": [
        {
          "output_type": "display_data",
          "data": {
            "image/png": "[encoded data removed]",
            "text/plain": [
              "<Figure size 432x288 with 1 Axes>"
            ]
          },
          "metadata": {
            "needs_background": "light"
          }
        }
      ]
    },
    {
      "cell_type": "markdown",
      "metadata": {
        "id": "Zzf-Udr-nh19"
      },
      "source": [
        "For numerical columns (like `popularity` and most of our other song metrics), our best visual is a histogram which shows the count of songs across the range of values for each metric. We can do these using a single line from seaborn:"
      ]
    },
    {
      "cell_type": "code",
      "metadata": {
        "colab": {
          "base_uri": "https://localhost:8080/",
          "height": 279
        },
        "id": "ocB3xvMy0h98",
        "outputId": "5219d22b-10fa-4768-ac0b-5b09a702266e"
      },
      "source": [
        "import seaborn as sns\n",
        "import matplotlib.pyplot as plt\n",
        "\n",
        "# Histogram of popularity values\n",
        "sns.histplot(x='popularity', data=df);"
      ],
      "execution_count": null,
      "outputs": [
        {
          "output_type": "display_data",
          "data": {
            "image/png": "[encoded data removed]",
            "text/plain": [
              "<Figure size 432x288 with 1 Axes>"
            ]
          },
          "metadata": {
            "needs_background": "light"
          }
        }
      ]
    },
    {
      "cell_type": "code",
      "metadata": {
        "colab": {
          "base_uri": "https://localhost:8080/",
          "height": 279
        },
        "id": "_Q7gzEPY0iIi",
        "outputId": "f6116066-3d1b-4756-ff2d-46f3f74968cd"
      },
      "source": [
        "# Histogram of 'explicit' values\n",
        "sns.histplot(x='explicit', data=df);"
      ],
      "execution_count": null,
      "outputs": [
        {
          "output_type": "display_data",
          "data": {
            "image/png": "[encoded data removed]",
            "text/plain": [
              "<Figure size 432x288 with 1 Axes>"
            ]
          },
          "metadata": {
            "needs_background": "light"
          }
        }
      ]
    },
    {
      "cell_type": "code",
      "metadata": {
        "colab": {
          "base_uri": "https://localhost:8080/",
          "height": 280
        },
        "id": "wBg1YelB0iPG",
        "outputId": "e38074dc-de7e-407b-ef78-1e9a9c0d16d2"
      },
      "source": [
        "sns.histplot(x='duration_mins', data=df);"
      ],
      "execution_count": null,
      "outputs": [
        {
          "output_type": "display_data",
          "data": {
            "image/png": "[encoded data removed]",
            "text/plain": [
              "<Figure size 432x288 with 1 Axes>"
            ]
          },
          "metadata": {
            "needs_background": "light"
          }
        }
      ]
    },
    {
      "cell_type": "code",
      "metadata": {
        "colab": {
          "base_uri": "https://localhost:8080/",
          "height": 280
        },
        "id": "rNvvnkYI0iT4",
        "outputId": "5969bda2-6539-40c2-bf9b-7fda585683a2"
      },
      "source": [
        "sns.histplot(x='release_date', data=df);"
      ],
      "execution_count": null,
      "outputs": [
        {
          "output_type": "display_data",
          "data": {
            "image/png": "[encoded data removed]",
            "text/plain": [
              "<Figure size 432x288 with 1 Axes>"
            ]
          },
          "metadata": {
            "needs_background": "light"
          }
        }
      ]
    },
    {
      "cell_type": "markdown",
      "metadata": {
        "id": "qhT_JviD0iYK"
      },
      "source": [
        "Hmm... might be more interesting to look at distribution of release year, or release month, rather than day-by-day distributions."
      ]
    },
    {
      "cell_type": "code",
      "metadata": {
        "id": "E3YMcybs0icd"
      },
      "source": [
        "# Engineer a new column for release year and release month\n",
        "df['release_date'] = pd.to_datetime(df['release_date'])"
      ],
      "execution_count": null,
      "outputs": []
    },
    {
      "cell_type": "code",
      "metadata": {
        "colab": {
          "base_uri": "https://localhost:8080/",
          "height": 283
        },
        "id": "Hgr_fLmE0ihz",
        "outputId": "99634979-fd7a-4a54-8b95-65ffaa31240e"
      },
      "source": [
        "sns.histplot(x='release_date', data=df, bins=20);"
      ],
      "execution_count": null,
      "outputs": [
        {
          "output_type": "display_data",
          "data": {
            "image/png": "[encoded data removed]",
            "text/plain": [
              "<Figure size 432x288 with 1 Axes>"
            ]
          },
          "metadata": {
            "needs_background": "light"
          }
        }
      ]
    },
    {
      "cell_type": "code",
      "metadata": {
        "colab": {
          "base_uri": "https://localhost:8080/",
          "height": 280
        },
        "id": "jxFjIxHf0im-",
        "outputId": "1d4060e7-b28a-4d96-b498-0e6d36a3f18f"
      },
      "source": [
        "sns.histplot(df['release_date'].dt.month);"
      ],
      "execution_count": null,
      "outputs": [
        {
          "output_type": "display_data",
          "data": {
            "image/png": "[encoded data removed]",
            "text/plain": [
              "<Figure size 432x288 with 1 Axes>"
            ]
          },
          "metadata": {
            "needs_background": "light"
          }
        }
      ]
    },
    {
      "cell_type": "markdown",
      "metadata": {
        "id": "J4ohz2xm0irv"
      },
      "source": [
        "Look how similar our code is for visualizing these columns! The only thing we need to change in each command is the column name. This is an opportunity to use loops to make our exploration more efficient!"
      ]
    },
    {
      "cell_type": "code",
      "metadata": {
        "colab": {
          "base_uri": "https://localhost:8080/"
        },
        "id": "rBt7JBjD0ivp",
        "outputId": "c7948345-fc82-4e21-bc7f-a3d4eef49919"
      },
      "source": [
        "# We already have list of column names\n",
        "df.columns"
      ],
      "execution_count": null,
      "outputs": [
        {
          "output_type": "execute_result",
          "data": {
            "text/plain": [
              "Index(['id', 'name', 'popularity', 'duration_ms', 'explicit', 'artists',\n",
              "       'id_artists', 'release_date', 'danceability', 'energy', 'key',\n",
              "       'loudness', 'mode', 'speechiness', 'acousticness', 'instrumentalness',\n",
              "       'liveness', 'valence', 'tempo', 'time_signature', 'main_artist',\n",
              "       'duration_mins'],\n",
              "      dtype='object')"
            ]
          },
          "metadata": {},
          "execution_count": 46
        }
      ]
    },
    {
      "cell_type": "code",
      "metadata": {
        "colab": {
          "base_uri": "https://localhost:8080/",
          "height": 1000
        },
        "id": "1NFArrNrHtyb",
        "outputId": "32eaca5f-aa82-4982-95f6-2f0202423e99"
      },
      "source": [
        "# Let's be more selective though\n",
        "\n",
        "# Define a list of interesting columns of numerical data\n",
        "interesting_columns = ['danceability', 'energy', 'key', 'loudness', 'mode', 'speechiness',\n",
        "                       'acousticness', 'instrumentalness', 'liveness', 'valence', 'tempo']\n",
        "\n",
        "# Loop through this list, creating a histogram of each one\n",
        "for col in interesting_columns:\n",
        "\n",
        "    # Plot\n",
        "    sns.histplot(x=col, data=df, bins=20)\n",
        "    plt.title(col)\n",
        "    plt.show()\n",
        "\n",
        "    print('\\n')"
      ],
      "execution_count": null,
      "outputs": [
        {
          "output_type": "display_data",
          "data": {
            "image/png": "[encoded data removed]",
            "text/plain": [
              "<Figure size 432x288 with 1 Axes>"
            ]
          },
          "metadata": {
            "needs_background": "light"
          }
        },
        {
          "output_type": "stream",
          "text": [
            "\n",
            "\n"
          ],
          "name": "stdout"
        },
        {
          "output_type": "display_data",
          "data": {
            "image/png": "[encoded data removed]",
            "text/plain": [
              "<Figure size 432x288 with 1 Axes>"
            ]
          },
          "metadata": {
            "needs_background": "light"
          }
        },
        {
          "output_type": "stream",
          "text": [
            "\n",
            "\n"
          ],
          "name": "stdout"
        },
        {
          "output_type": "display_data",
          "data": {
            "image/png": "[encoded data removed]",
            "text/plain": [
              "<Figure size 432x288 with 1 Axes>"
            ]
          },
          "metadata": {
            "needs_background": "light"
          }
        },
        {
          "output_type": "stream",
          "text": [
            "\n",
            "\n"
          ],
          "name": "stdout"
        },
        {
          "output_type": "display_data",
          "data": {
            "image/png": "[encoded data removed]",
            "text/plain": [
              "<Figure size 432x288 with 1 Axes>"
            ]
          },
          "metadata": {
            "needs_background": "light"
          }
        },
        {
          "output_type": "stream",
          "text": [
            "\n",
            "\n"
          ],
          "name": "stdout"
        },
        {
          "output_type": "display_data",
          "data": {
            "image/png": "[encoded data removed]",
            "text/plain": [
              "<Figure size 432x288 with 1 Axes>"
            ]
          },
          "metadata": {
            "needs_background": "light"
          }
        },
        {
          "output_type": "stream",
          "text": [
            "\n",
            "\n"
          ],
          "name": "stdout"
        },
        {
          "output_type": "display_data",
          "data": {
            "image/png": "[encoded data removed]",
            "text/plain": [
              "<Figure size 432x288 with 1 Axes>"
            ]
          },
          "metadata": {
            "needs_background": "light"
          }
        },
        {
          "output_type": "stream",
          "text": [
            "\n",
            "\n"
          ],
          "name": "stdout"
        },
        {
          "output_type": "display_data",
          "data": {
            "image/png": "[encoded data removed]",
            "text/plain": [
              "<Figure size 432x288 with 1 Axes>"
            ]
          },
          "metadata": {
            "needs_background": "light"
          }
        },
        {
          "output_type": "stream",
          "text": [
            "\n",
            "\n"
          ],
          "name": "stdout"
        },
        {
          "output_type": "display_data",
          "data": {
            "image/png": "[encoded data removed]",
            "text/plain": [
              "<Figure size 432x288 with 1 Axes>"
            ]
          },
          "metadata": {
            "needs_background": "light"
          }
        },
        {
          "output_type": "stream",
          "text": [
            "\n",
            "\n"
          ],
          "name": "stdout"
        },
        {
          "output_type": "display_data",
          "data": {
            "image/png": "[encoded data removed]",
            "text/plain": [
              "<Figure size 432x288 with 1 Axes>"
            ]
          },
          "metadata": {
            "needs_background": "light"
          }
        },
        {
          "output_type": "stream",
          "text": [
            "\n",
            "\n"
          ],
          "name": "stdout"
        },
        {
          "output_type": "display_data",
          "data": {
            "image/png": "[encoded data removed]",
            "text/plain": [
              "<Figure size 432x288 with 1 Axes>"
            ]
          },
          "metadata": {
            "needs_background": "light"
          }
        },
        {
          "output_type": "stream",
          "text": [
            "\n",
            "\n"
          ],
          "name": "stdout"
        },
        {
          "output_type": "display_data",
          "data": {
            "image/png": "[encoded data removed]",
            "text/plain": [
              "<Figure size 432x288 with 1 Axes>"
            ]
          },
          "metadata": {
            "needs_background": "light"
          }
        },
        {
          "output_type": "stream",
          "text": [
            "\n",
            "\n"
          ],
          "name": "stdout"
        }
      ]
    },
    {
      "cell_type": "markdown",
      "metadata": {
        "id": "PSsZs9LjZfcY"
      },
      "source": [
        "Remember our investigative goal: What are the audio attributes that distiguish these three artists from one another?\n",
        "\n",
        "Let's start to see **how these attributes differ by artist**. We'll filter our set of columns to just these core audio attributes:"
      ]
    },
    {
      "cell_type": "code",
      "metadata": {
        "colab": {
          "base_uri": "https://localhost:8080/"
        },
        "id": "8ozIos5oUWi4",
        "outputId": "dc458f40-ede4-4bd7-f1ad-3aa3b64b0d6f"
      },
      "source": [
        "df.columns"
      ],
      "execution_count": null,
      "outputs": [
        {
          "output_type": "execute_result",
          "data": {
            "text/plain": [
              "Index(['id', 'name', 'popularity', 'duration_ms', 'explicit', 'artists',\n",
              "       'id_artists', 'release_date', 'danceability', 'energy', 'key',\n",
              "       'loudness', 'mode', 'speechiness', 'acousticness', 'instrumentalness',\n",
              "       'liveness', 'valence', 'tempo', 'time_signature', 'main_artist',\n",
              "       'duration_mins'],\n",
              "      dtype='object')"
            ]
          },
          "metadata": {},
          "execution_count": 48
        }
      ]
    },
    {
      "cell_type": "code",
      "metadata": {
        "id": "0D7IKfY4TcdG"
      },
      "source": [
        "audio_columns = ['popularity', 'duration_mins', 'key', 'danceability', 'energy', 'loudness',\n",
        "                 'speechiness', 'acousticness', 'instrumentalness', 'liveness', 'valence', 'tempo',\n",
        "                 'time_signature']"
      ],
      "execution_count": null,
      "outputs": []
    },
    {
      "cell_type": "markdown",
      "metadata": {
        "id": "JEsFWo51aPAB"
      },
      "source": [
        "We can do this investigation using data visualization. Let's make a bar chart of average popularity per artist. Any hypotheses to start?"
      ]
    },
    {
      "cell_type": "code",
      "metadata": {
        "colab": {
          "base_uri": "https://localhost:8080/",
          "height": 280
        },
        "id": "DbUwjFK8aWzX",
        "outputId": "b7ccd97a-b621-4f48-9f83-afe3dea42a8c"
      },
      "source": [
        "sns.barplot(x='main_artist', y='popularity', data=df);"
      ],
      "execution_count": null,
      "outputs": [
        {
          "output_type": "display_data",
          "data": {
            "image/png": "[encoded data removed]",
            "text/plain": [
              "<Figure size 432x288 with 1 Axes>"
            ]
          },
          "metadata": {
            "needs_background": "light"
          }
        }
      ]
    },
    {
      "cell_type": "markdown",
      "metadata": {
        "id": "Ms0Iim91ajWT"
      },
      "source": [
        "The bar height represents the average popularity score, and the black lines represent the standard deviation of the popularity scores.\n",
        "\n",
        "Looks like despite Led Zeppelin being the least popular overall by Spotify standards, Britney songs have a wider range in popularity.\n",
        "\n",
        "If we want a more granular look at these metrics, we can turn to statistical plots like a boxplot:"
      ]
    },
    {
      "cell_type": "code",
      "metadata": {
        "colab": {
          "base_uri": "https://localhost:8080/",
          "height": 280
        },
        "id": "xN8j7EpyWi3V",
        "outputId": "e565d8ab-245a-47ce-8a48-d1f1450d65a0"
      },
      "source": [
        "sns.boxplot(x='main_artist', y='popularity', data=df);"
      ],
      "execution_count": null,
      "outputs": [
        {
          "output_type": "display_data",
          "data": {
            "image/png": "[encoded data removed]",
            "text/plain": [
              "<Figure size 432x288 with 1 Axes>"
            ]
          },
          "metadata": {
            "needs_background": "light"
          }
        }
      ]
    },
    {
      "cell_type": "markdown",
      "metadata": {
        "id": "Djn7enMNcNuD"
      },
      "source": [
        "Boxplots show us the median, 1st and 3rd quartile of our data -- great for understanding its central tendencies. The \"whiskers\" show us the extent of the data up until seaborn determines we've entered the range of outlier points, which are represented by individual dots. (1.5 * the interquartile range). Boxplots are a much more condensed way of depicting information about a distribution of a variable across categories, as could be done with multiple histograms as below:"
      ]
    },
    {
      "cell_type": "code",
      "metadata": {
        "colab": {
          "base_uri": "https://localhost:8080/",
          "height": 369
        },
        "id": "IH0b3BQ7nh1_",
        "outputId": "d6a0611e-d761-4004-e5d4-ac2e76de245a"
      },
      "source": [
        "sns.displot(x='popularity', hue='main_artist', col='main_artist', data=df)\n",
        "plt.show()"
      ],
      "execution_count": null,
      "outputs": [
        {
          "output_type": "display_data",
          "data": {
            "image/png": "[encoded data removed]",
            "text/plain": [
              "<Figure size 1159.75x360 with 3 Axes>"
            ]
          },
          "metadata": {
            "needs_background": "light"
          }
        }
      ]
    },
    {
      "cell_type": "markdown",
      "metadata": {
        "id": "YGbyaP3e0-2h"
      },
      "source": [
        "We can go even further with a strip plot. Here each point is plotted for its corresponding y-value, separated on the x-axis into the categories as with the boxplot. The horizontal position of the point for each category is not important, only to allow us to see all the data with minimal overlapping. We can also control the size of the plotted points, here with the `s=3` argument."
      ]
    },
    {
      "cell_type": "code",
      "metadata": {
        "colab": {
          "base_uri": "https://localhost:8080/",
          "height": 280
        },
        "id": "_Uhgtv3R09oY",
        "outputId": "f96387f4-afc0-4893-aedc-c9de8d8eaa93"
      },
      "source": [
        "sns.stripplot(x='main_artist', y='popularity', data=df, s=3);"
      ],
      "execution_count": null,
      "outputs": [
        {
          "output_type": "display_data",
          "data": {
            "image/png": "[encoded data removed]",
            "text/plain": [
              "<Figure size 432x288 with 1 Axes>"
            ]
          },
          "metadata": {
            "needs_background": "light"
          }
        }
      ]
    },
    {
      "cell_type": "code",
      "metadata": {
        "colab": {
          "base_uri": "https://localhost:8080/",
          "height": 284
        },
        "id": "Q4gJKqF2bCKO",
        "outputId": "12702189-394a-48d9-df1d-10d05203f540"
      },
      "source": [
        "# Let's do the same for duration\n",
        "sns.stripplot(x='main_artist', y='duration_mins', data=df, s=3)\n",
        "plt.ylim(0,10) # restricts the range of the y-axis from 0 to 10\n",
        "plt.show()"
      ],
      "execution_count": null,
      "outputs": [
        {
          "output_type": "display_data",
          "data": {
            "image/png": "[encoded data removed]",
            "text/plain": [
              "<Figure size 432x288 with 1 Axes>"
            ]
          },
          "metadata": {
            "needs_background": "light"
          }
        }
      ]
    },
    {
      "cell_type": "markdown",
      "metadata": {
        "id": "0X4M46NL11xf"
      },
      "source": [
        "Notice how similar our code is across these visualizations again? All we need is to swap in a different column name in the `stripplot` function. Time to use more loops!"
      ]
    },
    {
      "cell_type": "code",
      "metadata": {
        "colab": {
          "base_uri": "https://localhost:8080/"
        },
        "id": "P5_4sq2T2ANR",
        "outputId": "d8d94806-cf91-4b84-fa12-427d79d1caf4"
      },
      "source": [
        "audio_columns"
      ],
      "execution_count": null,
      "outputs": [
        {
          "output_type": "execute_result",
          "data": {
            "text/plain": [
              "['popularity',\n",
              " 'duration_mins',\n",
              " 'key',\n",
              " 'danceability',\n",
              " 'energy',\n",
              " 'loudness',\n",
              " 'speechiness',\n",
              " 'acousticness',\n",
              " 'instrumentalness',\n",
              " 'liveness',\n",
              " 'valence',\n",
              " 'tempo',\n",
              " 'time_signature']"
            ]
          },
          "metadata": {},
          "execution_count": 55
        }
      ]
    },
    {
      "cell_type": "code",
      "metadata": {
        "colab": {
          "base_uri": "https://localhost:8080/",
          "height": 1000
        },
        "id": "4s6pN2sN2Cp9",
        "outputId": "0b431ec5-44cc-4410-fea9-0ba8984e779c"
      },
      "source": [
        "# for each column name in our list\n",
        "for column in audio_columns:\n",
        "\n",
        "    # draw a strip plot with an informative title\n",
        "    sns.stripplot(x='main_artist', y = column, data=df, s=3)\n",
        "    plt.title(column)\n",
        "    plt.show()\n",
        "\n",
        "    # and print a blank line for extra space\n",
        "    print('\\n')"
      ],
      "execution_count": null,
      "outputs": [
        {
          "output_type": "display_data",
          "data": {
            "image/png": "[encoded data removed]",
            "text/plain": [
              "<Figure size 432x288 with 1 Axes>"
            ]
          },
          "metadata": {
            "needs_background": "light"
          }
        },
        {
          "output_type": "stream",
          "text": [
            "\n",
            "\n"
          ],
          "name": "stdout"
        },
        {
          "output_type": "display_data",
          "data": {
            "image/png": "[encoded data removed]",
            "text/plain": [
              "<Figure size 432x288 with 1 Axes>"
            ]
          },
          "metadata": {
            "needs_background": "light"
          }
        },
        {
          "output_type": "stream",
          "text": [
            "\n",
            "\n"
          ],
          "name": "stdout"
        },
        {
          "output_type": "display_data",
          "data": {
            "image/png": "[encoded data removed]",
            "text/plain": [
              "<Figure size 432x288 with 1 Axes>"
            ]
          },
          "metadata": {
            "needs_background": "light"
          }
        },
        {
          "output_type": "stream",
          "text": [
            "\n",
            "\n"
          ],
          "name": "stdout"
        },
        {
          "output_type": "display_data",
          "data": {
            "image/png": "[encoded data removed]",
            "text/plain": [
              "<Figure size 432x288 with 1 Axes>"
            ]
          },
          "metadata": {
            "needs_background": "light"
          }
        },
        {
          "output_type": "stream",
          "text": [
            "\n",
            "\n"
          ],
          "name": "stdout"
        },
        {
          "output_type": "display_data",
          "data": {
            "image/png": "[encoded data removed]",
            "text/plain": [
              "<Figure size 432x288 with 1 Axes>"
            ]
          },
          "metadata": {
            "needs_background": "light"
          }
        },
        {
          "output_type": "stream",
          "text": [
            "\n",
            "\n"
          ],
          "name": "stdout"
        },
        {
          "output_type": "display_data",
          "data": {
            "image/png": "[encoded data removed]",
            "text/plain": [
              "<Figure size 432x288 with 1 Axes>"
            ]
          },
          "metadata": {
            "needs_background": "light"
          }
        },
        {
          "output_type": "stream",
          "text": [
            "\n",
            "\n"
          ],
          "name": "stdout"
        },
        {
          "output_type": "display_data",
          "data": {
            "image/png": "[encoded data removed]",
            "text/plain": [
              "<Figure size 432x288 with 1 Axes>"
            ]
          },
          "metadata": {
            "needs_background": "light"
          }
        },
        {
          "output_type": "stream",
          "text": [
            "\n",
            "\n"
          ],
          "name": "stdout"
        },
        {
          "output_type": "display_data",
          "data": {
            "image/png": "[encoded data removed]",
            "text/plain": [
              "<Figure size 432x288 with 1 Axes>"
            ]
          },
          "metadata": {
            "needs_background": "light"
          }
        },
        {
          "output_type": "stream",
          "text": [
            "\n",
            "\n"
          ],
          "name": "stdout"
        },
        {
          "output_type": "display_data",
          "data": {
            "image/png": "[encoded data removed]",
            "text/plain": [
              "<Figure size 432x288 with 1 Axes>"
            ]
          },
          "metadata": {
            "needs_background": "light"
          }
        },
        {
          "output_type": "stream",
          "text": [
            "\n",
            "\n"
          ],
          "name": "stdout"
        },
        {
          "output_type": "display_data",
          "data": {
            "image/png": "[encoded data removed]",
            "text/plain": [
              "<Figure size 432x288 with 1 Axes>"
            ]
          },
          "metadata": {
            "needs_background": "light"
          }
        },
        {
          "output_type": "stream",
          "text": [
            "\n",
            "\n"
          ],
          "name": "stdout"
        },
        {
          "output_type": "display_data",
          "data": {
            "image/png": "[encoded data removed]",
            "text/plain": [
              "<Figure size 432x288 with 1 Axes>"
            ]
          },
          "metadata": {
            "needs_background": "light"
          }
        },
        {
          "output_type": "stream",
          "text": [
            "\n",
            "\n"
          ],
          "name": "stdout"
        },
        {
          "output_type": "display_data",
          "data": {
            "image/png": "[encoded data removed]",
            "text/plain": [
              "<Figure size 432x288 with 1 Axes>"
            ]
          },
          "metadata": {
            "needs_background": "light"
          }
        },
        {
          "output_type": "stream",
          "text": [
            "\n",
            "\n"
          ],
          "name": "stdout"
        },
        {
          "output_type": "display_data",
          "data": {
            "image/png": "[encoded data removed]",
            "text/plain": [
              "<Figure size 432x288 with 1 Axes>"
            ]
          },
          "metadata": {
            "needs_background": "light"
          }
        },
        {
          "output_type": "stream",
          "text": [
            "\n",
            "\n"
          ],
          "name": "stdout"
        }
      ]
    },
    {
      "cell_type": "markdown",
      "metadata": {
        "id": "BViI8N05Bswy"
      },
      "source": [
        "Looks like there’s clear differences between artists across some of these metrics. This makes me wonder: Given some song data from an unknown artist, could I predict which of these 3 it’s most likely to be?\n",
        "\n",
        "I suspect that if we **did** receive some of these audio statistics but didn't know which artist it belongs to, we could classify it. We can do that with only a few lines of code in [scikit-learn](https://scikit-learn.org/stable/), the machine learning package for python:"
      ]
    },
    {
      "cell_type": "code",
      "metadata": {
        "colab": {
          "base_uri": "https://localhost:8080/"
        },
        "id": "IU6rJ5bDnh2A",
        "outputId": "f5812412-ca02-4f4d-a0d2-ad3491ac7279"
      },
      "source": [
        "from sklearn.linear_model import LogisticRegression\n",
        "\n",
        "# Pull out the main artist as the target to be predicted and the audio columns\n",
        "y = df['main_artist']\n",
        "X = df[audio_columns]\n",
        "\n",
        "# Instantiate and fit a model\n",
        "lr = LogisticRegression(solver='liblinear')\n",
        "lr.fit(X, y)\n",
        "\n",
        "# Calculate the accuracy score (%)\n",
        "lr.score(X,y)*100.0"
      ],
      "execution_count": null,
      "outputs": [
        {
          "output_type": "execute_result",
          "data": {
            "text/plain": [
              "91.98113207547169"
            ]
          },
          "metadata": {},
          "execution_count": 57
        }
      ]
    },
    {
      "cell_type": "markdown",
      "metadata": {
        "id": "JnPLLACPnh2A"
      },
      "source": [
        "Given the audio features provided, we can predict with ~92% accuracy which artist performed the song - amazing! And this is just scratching the surface of what machine learning can do..."
      ]
    }
  ]
}